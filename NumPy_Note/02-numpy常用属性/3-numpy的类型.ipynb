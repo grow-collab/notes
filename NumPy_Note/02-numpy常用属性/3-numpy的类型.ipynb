{
 "cells": [
  {
   "cell_type": "code",
   "execution_count": 2,
   "id": "initial_id",
   "metadata": {
    "collapsed": true,
    "ExecuteTime": {
     "end_time": "2024-11-07T01:09:21.725113700Z",
     "start_time": "2024-11-07T01:09:21.722642Z"
    }
   },
   "outputs": [
    {
     "name": "stdout",
     "output_type": "stream",
     "text": [
      "int64\n"
     ]
    }
   ],
   "source": [
    "import numpy as np\n",
    "\n",
    "a1 = np.arange(10)\n",
    "\n",
    "a1\n",
    "print(a1.dtype)"
   ]
  },
  {
   "cell_type": "code",
   "execution_count": 5,
   "outputs": [
    {
     "name": "stdout",
     "output_type": "stream",
     "text": [
      "[6 7 8 9]\n",
      "int8\n"
     ]
    }
   ],
   "source": [
    "b = np.array([6,7,8,9],dtype=np.int8)\n",
    "print(b)\n",
    "print(b.dtype)"
   ],
   "metadata": {
    "collapsed": false,
    "ExecuteTime": {
     "end_time": "2024-11-06T10:53:52.835470200Z",
     "start_time": "2024-11-06T10:53:52.826110400Z"
    }
   },
   "id": "b116c54786d6a90c"
  },
  {
   "cell_type": "code",
   "execution_count": 9,
   "outputs": [
    {
     "name": "stdout",
     "output_type": "stream",
     "text": [
      "<__main__.STUDENT object at 0x000002277CCDE000>\n",
      "object\n"
     ]
    }
   ],
   "source": [
    "class STUDENT:\n",
    "    def __init__(self,name,age):\n",
    "        self.name = name\n",
    "        self.age = age\n",
    "        \n",
    "c = np.array(STUDENT('小谢',18))\n",
    "print(c)\n",
    "print(c.dtype)"
   ],
   "metadata": {
    "collapsed": false,
    "ExecuteTime": {
     "end_time": "2024-11-06T11:01:38.623670900Z",
     "start_time": "2024-11-06T11:01:38.617849900Z"
    }
   },
   "id": "2ee30988e5d33f5f"
  },
  {
   "cell_type": "code",
   "execution_count": 11,
   "outputs": [
    {
     "name": "stdout",
     "output_type": "stream",
     "text": [
      "[b'a' b'b']\n",
      "|S1\n"
     ]
    }
   ],
   "source": [
    "d = np.array(['a','b'],dtype=np.bytes_) # 字节\n",
    "print(d)\n",
    "print(d.dtype)"
   ],
   "metadata": {
    "collapsed": false,
    "ExecuteTime": {
     "end_time": "2024-11-06T11:03:41.940784500Z",
     "start_time": "2024-11-06T11:03:41.929947300Z"
    }
   },
   "id": "44c120ee6f031209"
  },
  {
   "cell_type": "code",
   "execution_count": 13,
   "outputs": [
    {
     "name": "stdout",
     "output_type": "stream",
     "text": [
      "['abc' 'hj']\n",
      "<U3\n"
     ]
    }
   ],
   "source": [
    "e = np.array(['abc','hj'],dtype=np.str_)\n",
    "print(e)\n",
    "print(e.dtype)"
   ],
   "metadata": {
    "collapsed": false,
    "ExecuteTime": {
     "end_time": "2024-11-06T11:06:24.990029900Z",
     "start_time": "2024-11-06T11:06:24.978696300Z"
    }
   },
   "id": "45c13c929eea4f19"
  },
  {
   "cell_type": "code",
   "execution_count": 14,
   "outputs": [
    {
     "name": "stdout",
     "output_type": "stream",
     "text": [
      "[1 2 3]\n",
      "int64\n"
     ]
    }
   ],
   "source": [
    "# 修改数据类型\n",
    "h = np.array([1,2,3],)\n",
    "print(h)\n",
    "print(h.dtype)"
   ],
   "metadata": {
    "collapsed": false,
    "ExecuteTime": {
     "end_time": "2024-11-06T11:12:31.503822200Z",
     "start_time": "2024-11-06T11:12:31.493851100Z"
    }
   },
   "id": "d169a1b10257f9cf"
  },
  {
   "cell_type": "code",
   "execution_count": 16,
   "outputs": [
    {
     "name": "stdout",
     "output_type": "stream",
     "text": [
      "int8\n"
     ]
    }
   ],
   "source": [
    "y = h.astype(np.int8) # astype不会影响数据的本身，而是修改后返回一个新对象\n",
    "print(y.dtype)"
   ],
   "metadata": {
    "collapsed": false,
    "ExecuteTime": {
     "end_time": "2024-11-06T11:13:26.487218900Z",
     "start_time": "2024-11-06T11:13:26.477917900Z"
    }
   },
   "id": "6ee973f45157a9c7"
  },
  {
   "cell_type": "code",
   "execution_count": 20,
   "outputs": [
    {
     "name": "stdout",
     "output_type": "stream",
     "text": [
      "int8\n",
      "['9' '7' '5']\n",
      "<U4\n"
     ]
    }
   ],
   "source": [
    "p = np.array([9,7,5],dtype=np.int8)\n",
    "print(p.dtype)\n",
    "i = p.astype(np.str_)\n",
    "print(i)\n",
    "print(i.dtype)"
   ],
   "metadata": {
    "collapsed": false,
    "ExecuteTime": {
     "end_time": "2024-11-06T11:23:00.784824Z",
     "start_time": "2024-11-06T11:23:00.776454600Z"
    }
   },
   "id": "450cf02b482fde04"
  },
  {
   "cell_type": "code",
   "execution_count": null,
   "outputs": [],
   "source": [
    "'''\n",
    "总结:\n",
    "1.为什么numpy的数值中这么多的数据类型\n",
    "    Numpy本身是基于C语言的，C语言中本身就有很多的数据类型，所以直接引用来过了\n",
    "    Numpy为了考虑到处理海量的数据的性能，针对不同的数据给出不同的数据类型，来节省内存空间，所以有不同的数据类型\n",
    "2.numpy的数值的元素数据类型有哪些 --> 看笔记\n",
    "3.使用ndarray.astype可以修改数组元素的数据类型\n",
    "\n",
    "'''"
   ],
   "metadata": {
    "collapsed": false
   },
   "id": "a3d2b6d57171b1bf"
  }
 ],
 "metadata": {
  "kernelspec": {
   "display_name": "Python 3",
   "language": "python",
   "name": "python3"
  },
  "language_info": {
   "codemirror_mode": {
    "name": "ipython",
    "version": 2
   },
   "file_extension": ".py",
   "mimetype": "text/x-python",
   "name": "python",
   "nbconvert_exporter": "python",
   "pygments_lexer": "ipython2",
   "version": "2.7.6"
  }
 },
 "nbformat": 4,
 "nbformat_minor": 5
}
