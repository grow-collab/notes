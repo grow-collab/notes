{
 "cells": [
  {
   "cell_type": "code",
   "execution_count": 2,
   "id": "initial_id",
   "metadata": {
    "collapsed": true,
    "ExecuteTime": {
     "end_time": "2025-07-05T13:23:03.452771800Z",
     "start_time": "2025-07-05T13:23:03.311639Z"
    }
   },
   "outputs": [],
   "source": [
    "import numpy as np"
   ]
  },
  {
   "cell_type": "code",
   "execution_count": 2,
   "outputs": [
    {
     "name": "stdout",
     "output_type": "stream",
     "text": [
      "[[0.44154513 0.83191089 0.52231899 0.2385486  0.78274005 0.73247308\n",
      "  0.86682807 0.80432085]\n",
      " [0.40989342 0.73113672 0.73913923 0.30423281 0.04326102 0.70267839\n",
      "  0.11763114 0.3199179 ]\n",
      " [0.26088133 0.11912222 0.10996748 0.79548816 0.17355137 0.35030788\n",
      "  0.35888342 0.41607107]]\n",
      "[[5 6 7 6 4 5 5 3]\n",
      " [5 3 7 5 7 3 5 7]\n",
      " [3 4 7 4 7 3 6 3]]\n"
     ]
    },
    {
     "data": {
      "text/plain": "array([[5.44154513, 6.83191089, 7.52231899, 6.2385486 , 4.78274005,\n        5.73247308, 5.86682807, 3.80432085],\n       [5.40989342, 3.73113672, 7.73913923, 5.30423281, 7.04326102,\n        3.70267839, 5.11763114, 7.3199179 ],\n       [3.26088133, 4.11912222, 7.10996748, 4.79548816, 7.17355137,\n        3.35030788, 6.35888342, 3.41607107]])"
     },
     "execution_count": 2,
     "metadata": {},
     "output_type": "execute_result"
    }
   ],
   "source": [
    "# 1.结构相同的数组之间的运算\n",
    "a = np.random.random((3,8))\n",
    "print(a)\n",
    "b = np.random.randint(3,8,size=(3,8))\n",
    "print(b)\n",
    "c = a + b # 只要是算术运算符都是可以的\n",
    "c"
   ],
   "metadata": {
    "collapsed": false,
    "ExecuteTime": {
     "end_time": "2024-11-08T02:51:56.757193800Z",
     "start_time": "2024-11-08T02:51:56.728992Z"
    }
   },
   "id": "3e052b8f4dd089f4"
  },
  {
   "cell_type": "code",
   "execution_count": 11,
   "outputs": [
    {
     "name": "stdout",
     "output_type": "stream",
     "text": [
      "[[ 0  1  2  3  4  5  6  7]\n",
      " [ 8  9 10 11 12 13 14 15]\n",
      " [16 17 18 19 20 21 22 23]]\n",
      "[[0.73873439]\n",
      " [0.03245144]\n",
      " [0.26426338]]\n"
     ]
    },
    {
     "data": {
      "text/plain": "array([[ 0.73873439,  1.73873439,  2.73873439,  3.73873439,  4.73873439,\n         5.73873439,  6.73873439,  7.73873439],\n       [ 8.03245144,  9.03245144, 10.03245144, 11.03245144, 12.03245144,\n        13.03245144, 14.03245144, 15.03245144],\n       [16.26426338, 17.26426338, 18.26426338, 19.26426338, 20.26426338,\n        21.26426338, 22.26426338, 23.26426338]])"
     },
     "execution_count": 11,
     "metadata": {},
     "output_type": "execute_result"
    }
   ],
   "source": [
    "# 2.与行数组相同并且只有1列的数组之间的运算:\n",
    "a1 = np.arange(24).reshape(3,8) # 行相同，列不同\n",
    "print(a1)\n",
    "b1 = np.random.random((3,1))\n",
    "print(b1)\n",
    "c1 = a1 + b1\n",
    "c1"
   ],
   "metadata": {
    "collapsed": false,
    "ExecuteTime": {
     "end_time": "2024-11-08T03:36:02.357182100Z",
     "start_time": "2024-11-08T03:36:02.347633400Z"
    }
   },
   "id": "3bc9972e1c45bc41"
  },
  {
   "cell_type": "code",
   "execution_count": 3,
   "outputs": [
    {
     "name": "stdout",
     "output_type": "stream",
     "text": [
      "[[ 0  1  2  3  4  5  6  7  8  9 10 11 12 13 14 15 16 17 18 19 20 21 22 23]]\n",
      "[[6 9 4 9 1 3 9 7 5 6 7 7 4 3 5 9 4 3 8 2 4 5 7 8]\n",
      " [1 6 1 7 7 3 2 3 3 2 1 8 9 1 9 3 9 6 2 9 9 6 1 2]\n",
      " [8 9 8 1 8 4 7 5 9 2 9 8 5 5 4 5 2 1 6 3 4 7 2 8]\n",
      " [9 6 8 2 9 7 8 6 7 4 6 4 5 8 2 1 5 9 6 9 5 9 9 8]\n",
      " [1 7 1 5 2 1 4 3 2 7 8 3 4 8 2 7 9 9 3 3 3 6 3 4]]\n"
     ]
    },
    {
     "data": {
      "text/plain": "array([[ 6, 10,  6, 12,  5,  8, 15, 14, 13, 15, 17, 18, 16, 16, 19, 24,\n        20, 20, 26, 21, 24, 26, 29, 31],\n       [ 1,  7,  3, 10, 11,  8,  8, 10, 11, 11, 11, 19, 21, 14, 23, 18,\n        25, 23, 20, 28, 29, 27, 23, 25],\n       [ 8, 10, 10,  4, 12,  9, 13, 12, 17, 11, 19, 19, 17, 18, 18, 20,\n        18, 18, 24, 22, 24, 28, 24, 31],\n       [ 9,  7, 10,  5, 13, 12, 14, 13, 15, 13, 16, 15, 17, 21, 16, 16,\n        21, 26, 24, 28, 25, 30, 31, 31],\n       [ 1,  8,  3,  8,  6,  6, 10, 10, 10, 16, 18, 14, 16, 21, 16, 22,\n        25, 26, 21, 22, 23, 27, 25, 27]])"
     },
     "execution_count": 3,
     "metadata": {},
     "output_type": "execute_result"
    }
   ],
   "source": [
    "# 3.与列数组相同并且只有一行的数组之间的运算:\n",
    "a2 = np.arange(0,24).reshape((1,24)) # 列相同，行不相同\n",
    "print(a2)\n",
    "b2 = np.random.randint(1,10,size=(5,24))\n",
    "print(b2)\n",
    "c2 = a2 + b2\n",
    "c2"
   ],
   "metadata": {
    "collapsed": false,
    "ExecuteTime": {
     "end_time": "2025-07-05T13:23:07.936808200Z",
     "start_time": "2025-07-05T13:23:07.874300Z"
    }
   },
   "id": "5109b1b13dca15e"
  },
  {
   "cell_type": "code",
   "execution_count": null,
   "outputs": [],
   "source": [],
   "metadata": {
    "collapsed": false
   },
   "id": "fd5357c2497a51b"
  }
 ],
 "metadata": {
  "kernelspec": {
   "display_name": "Python 3",
   "language": "python",
   "name": "python3"
  },
  "language_info": {
   "codemirror_mode": {
    "name": "ipython",
    "version": 2
   },
   "file_extension": ".py",
   "mimetype": "text/x-python",
   "name": "python",
   "nbconvert_exporter": "python",
   "pygments_lexer": "ipython2",
   "version": "2.7.6"
  }
 },
 "nbformat": 4,
 "nbformat_minor": 5
}
