{
 "cells": [
  {
   "cell_type": "code",
   "execution_count": 1,
   "id": "initial_id",
   "metadata": {
    "collapsed": true,
    "ExecuteTime": {
     "end_time": "2024-11-08T08:22:55.636257200Z",
     "start_time": "2024-11-08T08:22:55.522056500Z"
    }
   },
   "outputs": [],
   "source": [
    "import numpy as np"
   ]
  },
  {
   "cell_type": "code",
   "execution_count": 3,
   "outputs": [
    {
     "name": "stdout",
     "output_type": "stream",
     "text": [
      "[[6 9 2 5 3]\n",
      " [2 3 3 1 2]\n",
      " [7 2 4 7 4]\n",
      " [1 2 9 8 7]]\n",
      "[[1 1 4 9 3]]\n"
     ]
    },
    {
     "data": {
      "text/plain": "array([[6, 9, 2, 5, 3],\n       [2, 3, 3, 1, 2],\n       [7, 2, 4, 7, 4],\n       [1, 2, 9, 8, 7],\n       [1, 1, 4, 9, 3]], dtype=int32)"
     },
     "execution_count": 3,
     "metadata": {},
     "output_type": "execute_result"
    }
   ],
   "source": [
    "# vstack 列相同,按照垂直方向的叠加\n",
    "a1 = np.random.randint(1,10,size=(4,5))\n",
    "print(a1)\n",
    "a2 = np.random.randint(1,10,size=(1,5))\n",
    "print(a2)\n",
    "a3 = np.vstack([a1,a2])\n",
    "a3"
   ],
   "metadata": {
    "collapsed": false,
    "ExecuteTime": {
     "end_time": "2024-11-08T08:29:07.393621500Z",
     "start_time": "2024-11-08T08:29:07.381198200Z"
    }
   },
   "id": "fb1b5ba53adef82e"
  },
  {
   "cell_type": "code",
   "execution_count": 11,
   "outputs": [
    {
     "name": "stdout",
     "output_type": "stream",
     "text": [
      "[[4 4 1 9 8]\n",
      " [1 8 5 7 3]\n",
      " [3 6 5 8 2]]\n",
      "[[8]\n",
      " [3]\n",
      " [3]]\n"
     ]
    },
    {
     "data": {
      "text/plain": "array([[4, 4, 1, 9, 8, 8],\n       [1, 8, 5, 7, 3, 3],\n       [3, 6, 5, 8, 2, 3]], dtype=int32)"
     },
     "execution_count": 11,
     "metadata": {},
     "output_type": "execute_result"
    }
   ],
   "source": [
    "# hstack :行相同，将数组按照水平方向叠加，数组的行必须相同才可以叠加\n",
    "a1 = np.random.randint(1,10,size=(3,5))\n",
    "print(a1)\n",
    "a2 = np.random.randint(1,10,size=(3,1))\n",
    "print(a2)\n",
    "a3 = np.hstack([a1,a2])\n",
    "a3"
   ],
   "metadata": {
    "collapsed": false,
    "ExecuteTime": {
     "end_time": "2024-11-08T11:23:12.398088800Z",
     "start_time": "2024-11-08T11:23:12.387690200Z"
    }
   },
   "id": "3f86901c69510b1e"
  },
  {
   "cell_type": "code",
   "execution_count": 10,
   "outputs": [
    {
     "data": {
      "text/plain": "array([[1, 2],\n       [3, 4],\n       [5, 6]])"
     },
     "execution_count": 10,
     "metadata": {},
     "output_type": "execute_result"
    }
   ],
   "source": [
    "# concatenate([a,b],axis=0/1/None)\n",
    "f1 = np.array([[1,2],[3,4]]) # 二行二列\n",
    "f2 = np.array([[5,6]]) # 一行二列\n",
    "f3 = np.concatenate([f1,f2],axis=0) # axis的值 0,代表垂直叠加,列必须相同。1，代表水平叠加，行必须相同。None,代表先叠加，在转换为一维数组\n",
    "# f3 = np.concatenate([f1,f2.T],axis=1)\n",
    "# f3 = np.concatenate([f1,f2.T],axis=None)\n",
    "f3"
   ],
   "metadata": {
    "collapsed": false,
    "ExecuteTime": {
     "end_time": "2024-11-08T08:57:31.644582800Z",
     "start_time": "2024-11-08T08:57:31.630317100Z"
    }
   },
   "id": "50bc57a1b9d2259b"
  },
  {
   "cell_type": "code",
   "execution_count": null,
   "outputs": [],
   "source": [
    "\"\"\"\n",
    "1.np.hstack([a,b]),水平叠加，但前提是行相同。\n",
    "2.np.vstack([a,b]),垂直叠加，但前提是列相同。\n",
    "3.np.concatenate([a,b],axis=0/1/None),手动调整方向，axis为0，代表垂直叠加。为1，代表水平叠加。为None，代表先叠加，在转换为一维数组。\n",
    "\"\"\""
   ],
   "metadata": {
    "collapsed": false
   },
   "id": "7f3809637612f5cd"
  }
 ],
 "metadata": {
  "kernelspec": {
   "display_name": "Python 3",
   "language": "python",
   "name": "python3"
  },
  "language_info": {
   "codemirror_mode": {
    "name": "ipython",
    "version": 2
   },
   "file_extension": ".py",
   "mimetype": "text/x-python",
   "name": "python",
   "nbconvert_exporter": "python",
   "pygments_lexer": "ipython2",
   "version": "2.7.6"
  }
 },
 "nbformat": 4,
 "nbformat_minor": 5
}
