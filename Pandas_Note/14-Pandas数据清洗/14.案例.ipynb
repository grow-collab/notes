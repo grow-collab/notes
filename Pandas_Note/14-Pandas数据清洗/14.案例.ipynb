{
 "cells": [
  {
   "cell_type": "code",
   "execution_count": 1,
   "id": "initial_id",
   "metadata": {
    "collapsed": true,
    "ExecuteTime": {
     "end_time": "2025-07-07T05:24:12.267536200Z",
     "start_time": "2025-07-07T05:24:10.394987100Z"
    }
   },
   "outputs": [],
   "source": [
    "import pandas as pd"
   ]
  },
  {
   "cell_type": "code",
   "execution_count": 3,
   "outputs": [
    {
     "data": {
      "text/plain": "       品牌                           车型名称      级别     上市时间  厂商指导价(元)  \\\n0      领克        领克Z20 2025款 530km 后驱Pro  紧凑型SUV  2024.12    13.59万   \n1      领克        领克Z20 2025款 530km 后驱Max  紧凑型SUV  2024.12    14.59万   \n2      领克     领克Z20 2025款 530km 后驱Max逐日版  紧凑型SUV  2024.12    15.09万   \n3      领克              领克Z20 2025款 175kW  紧凑型SUV      NaN       NaN   \n4     比亚迪  驱逐舰05 2024款 荣耀版 DM-i 55KM 豪华型    紧凑型车  2024.02     7.98万   \n..    ...                            ...     ...      ...       ...   \n114  五菱汽车              五菱之光新能源 2025款 标准型      微面  2025.02     4.78万   \n115  五菱汽车              五菱之光新能源 2025款 舒适型      微面  2025.02     5.08万   \n116    品牌                           车型名称      级别     上市时间  厂商指导价(元)   \n117    品牌                           车型名称      级别     上市时间  厂商指导价(元)   \n118  五菱汽车              五菱之光新能源 2025款 舒适型      微面  2025.02     5.08万   \n\n     CLTC纯电续航里程(km)  电池快充时间(小时)  最大功率(kW)  最大扭矩(N·m)       长*宽*高(mm)  ...  \\\n0               530        0.25       250        373  4460*1845*1573  ...   \n1               530        0.25       250        373  4460*1845*1573  ...   \n2               530        0.25       250        373  4460*1845*1573  ...   \n3               NaN         NaN       175        NaN  4460*1845*1573  ...   \n4               NaN         NaN        81        135  4780*1837*1495  ...   \n..              ...         ...       ...        ...             ...  ...   \n114             201        0.58        30         85  3685*1530*1750  ...   \n115             201        0.58        30         85  3685*1530*1765  ...   \n116  CLTC纯电续航里程(km)  电池快充时间(小时)  最大功率(kW)  最大扭矩(N·m)       长*宽*高(mm)  ...   \n117  CLTC纯电续航里程(km)  电池快充时间(小时)  最大功率(kW)  最大扭矩(N·m)       长*宽*高(mm)  ...   \n118             201        0.58        30         85  3685*1530*1765  ...   \n\n     电动机总马力(Ps)  电动机总扭矩(N·m)  驱动电机数    电池类型  电池能量(kWh)           变速箱类型  挡位个数  \\\n0           340          373    单电机  磷酸铁锂电池      61.47         固定齿比变速箱     1   \n1           340          373    单电机  磷酸铁锂电池      61.47         固定齿比变速箱     1   \n2           340          373    单电机  磷酸铁锂电池      61.47         固定齿比变速箱     1   \n3           238          NaN    单电机  磷酸铁锂电池        NaN         固定齿比变速箱     1   \n4           180          316    单电机  磷酸铁锂电池        8.3  电子无级变速箱(E-CVT)  无级变速   \n..          ...          ...    ...     ...        ...             ...   ...   \n114          41           85    单电机  磷酸铁锂电池       17.7         固定齿比变速箱     1   \n115          41           85    单电机  磷酸铁锂电池       17.7         固定齿比变速箱     1   \n116  电动机总马力(Ps)  电动机总扭矩(N·m)  驱动电机数    电池类型  电池能量(kWh)           变速箱类型  挡位个数   \n117  电动机总马力(Ps)  电动机总扭矩(N·m)  驱动电机数    电池类型  电池能量(kWh)           变速箱类型  挡位个数   \n118          41           85    单电机  磷酸铁锂电池       17.7         固定齿比变速箱     1   \n\n     方向盘材质    方向盘位置调节     换挡形式  \n0       皮质  手动上下+前后调节  电子式怀挡换挡  \n1       皮质  手动上下+前后调节  电子式怀挡换挡  \n2       皮质  手动上下+前后调节  电子式怀挡换挡  \n3      NaN        NaN      NaN  \n4       皮质  手动上下+前后调节  电子式旋钮换挡  \n..     ...        ...      ...  \n114     塑料        NaN  电子式旋钮换挡  \n115     塑料        NaN  电子式旋钮换挡  \n116  方向盘材质    方向盘位置调节     换挡形式  \n117  方向盘材质    方向盘位置调节     换挡形式  \n118     塑料        NaN  电子式旋钮换挡  \n\n[119 rows x 26 columns]",
      "text/html": "<div>\n<style scoped>\n    .dataframe tbody tr th:only-of-type {\n        vertical-align: middle;\n    }\n\n    .dataframe tbody tr th {\n        vertical-align: top;\n    }\n\n    .dataframe thead th {\n        text-align: right;\n    }\n</style>\n<table border=\"1\" class=\"dataframe\">\n  <thead>\n    <tr style=\"text-align: right;\">\n      <th></th>\n      <th>品牌</th>\n      <th>车型名称</th>\n      <th>级别</th>\n      <th>上市时间</th>\n      <th>厂商指导价(元)</th>\n      <th>CLTC纯电续航里程(km)</th>\n      <th>电池快充时间(小时)</th>\n      <th>最大功率(kW)</th>\n      <th>最大扭矩(N·m)</th>\n      <th>长*宽*高(mm)</th>\n      <th>...</th>\n      <th>电动机总马力(Ps)</th>\n      <th>电动机总扭矩(N·m)</th>\n      <th>驱动电机数</th>\n      <th>电池类型</th>\n      <th>电池能量(kWh)</th>\n      <th>变速箱类型</th>\n      <th>挡位个数</th>\n      <th>方向盘材质</th>\n      <th>方向盘位置调节</th>\n      <th>换挡形式</th>\n    </tr>\n  </thead>\n  <tbody>\n    <tr>\n      <th>0</th>\n      <td>领克</td>\n      <td>领克Z20 2025款 530km 后驱Pro</td>\n      <td>紧凑型SUV</td>\n      <td>2024.12</td>\n      <td>13.59万</td>\n      <td>530</td>\n      <td>0.25</td>\n      <td>250</td>\n      <td>373</td>\n      <td>4460*1845*1573</td>\n      <td>...</td>\n      <td>340</td>\n      <td>373</td>\n      <td>单电机</td>\n      <td>磷酸铁锂电池</td>\n      <td>61.47</td>\n      <td>固定齿比变速箱</td>\n      <td>1</td>\n      <td>皮质</td>\n      <td>手动上下+前后调节</td>\n      <td>电子式怀挡换挡</td>\n    </tr>\n    <tr>\n      <th>1</th>\n      <td>领克</td>\n      <td>领克Z20 2025款 530km 后驱Max</td>\n      <td>紧凑型SUV</td>\n      <td>2024.12</td>\n      <td>14.59万</td>\n      <td>530</td>\n      <td>0.25</td>\n      <td>250</td>\n      <td>373</td>\n      <td>4460*1845*1573</td>\n      <td>...</td>\n      <td>340</td>\n      <td>373</td>\n      <td>单电机</td>\n      <td>磷酸铁锂电池</td>\n      <td>61.47</td>\n      <td>固定齿比变速箱</td>\n      <td>1</td>\n      <td>皮质</td>\n      <td>手动上下+前后调节</td>\n      <td>电子式怀挡换挡</td>\n    </tr>\n    <tr>\n      <th>2</th>\n      <td>领克</td>\n      <td>领克Z20 2025款 530km 后驱Max逐日版</td>\n      <td>紧凑型SUV</td>\n      <td>2024.12</td>\n      <td>15.09万</td>\n      <td>530</td>\n      <td>0.25</td>\n      <td>250</td>\n      <td>373</td>\n      <td>4460*1845*1573</td>\n      <td>...</td>\n      <td>340</td>\n      <td>373</td>\n      <td>单电机</td>\n      <td>磷酸铁锂电池</td>\n      <td>61.47</td>\n      <td>固定齿比变速箱</td>\n      <td>1</td>\n      <td>皮质</td>\n      <td>手动上下+前后调节</td>\n      <td>电子式怀挡换挡</td>\n    </tr>\n    <tr>\n      <th>3</th>\n      <td>领克</td>\n      <td>领克Z20 2025款 175kW</td>\n      <td>紧凑型SUV</td>\n      <td>NaN</td>\n      <td>NaN</td>\n      <td>NaN</td>\n      <td>NaN</td>\n      <td>175</td>\n      <td>NaN</td>\n      <td>4460*1845*1573</td>\n      <td>...</td>\n      <td>238</td>\n      <td>NaN</td>\n      <td>单电机</td>\n      <td>磷酸铁锂电池</td>\n      <td>NaN</td>\n      <td>固定齿比变速箱</td>\n      <td>1</td>\n      <td>NaN</td>\n      <td>NaN</td>\n      <td>NaN</td>\n    </tr>\n    <tr>\n      <th>4</th>\n      <td>比亚迪</td>\n      <td>驱逐舰05 2024款 荣耀版 DM-i 55KM 豪华型</td>\n      <td>紧凑型车</td>\n      <td>2024.02</td>\n      <td>7.98万</td>\n      <td>NaN</td>\n      <td>NaN</td>\n      <td>81</td>\n      <td>135</td>\n      <td>4780*1837*1495</td>\n      <td>...</td>\n      <td>180</td>\n      <td>316</td>\n      <td>单电机</td>\n      <td>磷酸铁锂电池</td>\n      <td>8.3</td>\n      <td>电子无级变速箱(E-CVT)</td>\n      <td>无级变速</td>\n      <td>皮质</td>\n      <td>手动上下+前后调节</td>\n      <td>电子式旋钮换挡</td>\n    </tr>\n    <tr>\n      <th>...</th>\n      <td>...</td>\n      <td>...</td>\n      <td>...</td>\n      <td>...</td>\n      <td>...</td>\n      <td>...</td>\n      <td>...</td>\n      <td>...</td>\n      <td>...</td>\n      <td>...</td>\n      <td>...</td>\n      <td>...</td>\n      <td>...</td>\n      <td>...</td>\n      <td>...</td>\n      <td>...</td>\n      <td>...</td>\n      <td>...</td>\n      <td>...</td>\n      <td>...</td>\n      <td>...</td>\n    </tr>\n    <tr>\n      <th>114</th>\n      <td>五菱汽车</td>\n      <td>五菱之光新能源 2025款 标准型</td>\n      <td>微面</td>\n      <td>2025.02</td>\n      <td>4.78万</td>\n      <td>201</td>\n      <td>0.58</td>\n      <td>30</td>\n      <td>85</td>\n      <td>3685*1530*1750</td>\n      <td>...</td>\n      <td>41</td>\n      <td>85</td>\n      <td>单电机</td>\n      <td>磷酸铁锂电池</td>\n      <td>17.7</td>\n      <td>固定齿比变速箱</td>\n      <td>1</td>\n      <td>塑料</td>\n      <td>NaN</td>\n      <td>电子式旋钮换挡</td>\n    </tr>\n    <tr>\n      <th>115</th>\n      <td>五菱汽车</td>\n      <td>五菱之光新能源 2025款 舒适型</td>\n      <td>微面</td>\n      <td>2025.02</td>\n      <td>5.08万</td>\n      <td>201</td>\n      <td>0.58</td>\n      <td>30</td>\n      <td>85</td>\n      <td>3685*1530*1765</td>\n      <td>...</td>\n      <td>41</td>\n      <td>85</td>\n      <td>单电机</td>\n      <td>磷酸铁锂电池</td>\n      <td>17.7</td>\n      <td>固定齿比变速箱</td>\n      <td>1</td>\n      <td>塑料</td>\n      <td>NaN</td>\n      <td>电子式旋钮换挡</td>\n    </tr>\n    <tr>\n      <th>116</th>\n      <td>品牌</td>\n      <td>车型名称</td>\n      <td>级别</td>\n      <td>上市时间</td>\n      <td>厂商指导价(元)</td>\n      <td>CLTC纯电续航里程(km)</td>\n      <td>电池快充时间(小时)</td>\n      <td>最大功率(kW)</td>\n      <td>最大扭矩(N·m)</td>\n      <td>长*宽*高(mm)</td>\n      <td>...</td>\n      <td>电动机总马力(Ps)</td>\n      <td>电动机总扭矩(N·m)</td>\n      <td>驱动电机数</td>\n      <td>电池类型</td>\n      <td>电池能量(kWh)</td>\n      <td>变速箱类型</td>\n      <td>挡位个数</td>\n      <td>方向盘材质</td>\n      <td>方向盘位置调节</td>\n      <td>换挡形式</td>\n    </tr>\n    <tr>\n      <th>117</th>\n      <td>品牌</td>\n      <td>车型名称</td>\n      <td>级别</td>\n      <td>上市时间</td>\n      <td>厂商指导价(元)</td>\n      <td>CLTC纯电续航里程(km)</td>\n      <td>电池快充时间(小时)</td>\n      <td>最大功率(kW)</td>\n      <td>最大扭矩(N·m)</td>\n      <td>长*宽*高(mm)</td>\n      <td>...</td>\n      <td>电动机总马力(Ps)</td>\n      <td>电动机总扭矩(N·m)</td>\n      <td>驱动电机数</td>\n      <td>电池类型</td>\n      <td>电池能量(kWh)</td>\n      <td>变速箱类型</td>\n      <td>挡位个数</td>\n      <td>方向盘材质</td>\n      <td>方向盘位置调节</td>\n      <td>换挡形式</td>\n    </tr>\n    <tr>\n      <th>118</th>\n      <td>五菱汽车</td>\n      <td>五菱之光新能源 2025款 舒适型</td>\n      <td>微面</td>\n      <td>2025.02</td>\n      <td>5.08万</td>\n      <td>201</td>\n      <td>0.58</td>\n      <td>30</td>\n      <td>85</td>\n      <td>3685*1530*1765</td>\n      <td>...</td>\n      <td>41</td>\n      <td>85</td>\n      <td>单电机</td>\n      <td>磷酸铁锂电池</td>\n      <td>17.7</td>\n      <td>固定齿比变速箱</td>\n      <td>1</td>\n      <td>塑料</td>\n      <td>NaN</td>\n      <td>电子式旋钮换挡</td>\n    </tr>\n  </tbody>\n</table>\n<p>119 rows × 26 columns</p>\n</div>"
     },
     "execution_count": 3,
     "metadata": {},
     "output_type": "execute_result"
    }
   ],
   "source": [
    "df = pd.read_excel('数据/新能源car.xlsx')\n",
    "df"
   ],
   "metadata": {
    "collapsed": false,
    "ExecuteTime": {
     "end_time": "2025-07-07T05:26:45.155170100Z",
     "start_time": "2025-07-07T05:26:45.077027400Z"
    }
   },
   "id": "61c34f0e78910725"
  },
  {
   "cell_type": "code",
   "execution_count": 5,
   "outputs": [
    {
     "data": {
      "text/plain": "       品牌                           车型名称      级别     上市时间 厂商指导价(元)  \\\n0      领克        领克Z20 2025款 530km 后驱Pro  紧凑型SUV  2024.12   13.59万   \n1      领克        领克Z20 2025款 530km 后驱Max  紧凑型SUV  2024.12   14.59万   \n2      领克     领克Z20 2025款 530km 后驱Max逐日版  紧凑型SUV  2024.12   15.09万   \n3      领克              领克Z20 2025款 175kW  紧凑型SUV      NaN      NaN   \n4     比亚迪  驱逐舰05 2024款 荣耀版 DM-i 55KM 豪华型    紧凑型车  2024.02    7.98万   \n..    ...                            ...     ...      ...      ...   \n110    腾势      腾势Z9GT 2024款 1100四驱Ultra版    中大型车  2024.09   41.48万   \n111  岚图汽车   岚图FREE 2025款 318 318km 后驱环游版  中大型SUV  2024.06   22.89万   \n112  岚图汽车   岚图FREE 2025款 318 259km 四驱探索版  中大型SUV  2024.06   26.69万   \n113  岚图汽车     岚图FREE 2025款 FREE+ 增程两驱基本型  中大型SUV      NaN      NaN   \n114  五菱汽车              五菱之光新能源 2025款 标准型      微面  2025.02    4.78万   \n\n    CLTC纯电续航里程(km) 电池快充时间(小时) 最大功率(kW) 最大扭矩(N·m)       长*宽*高(mm)  ...  \\\n0              530       0.25      250       373  4460*1845*1573  ...   \n1              530       0.25      250       373  4460*1845*1573  ...   \n2              530       0.25      250       373  4460*1845*1573  ...   \n3              NaN        NaN      175       NaN  4460*1845*1573  ...   \n4              NaN        NaN       81       135  4780*1837*1495  ...   \n..             ...        ...      ...       ...             ...  ...   \n110            201       0.32      152       325  5195*1990*1480  ...   \n111            318       0.43      110       220  4905*1950*1645  ...   \n112            259       0.43      110       220  4905*1950*1645  ...   \n113            NaN        NaN       95       NaN  4915*1960*1660  ...   \n114            201       0.58       30        85  3685*1530*1750  ...   \n\n    电动机总马力(Ps) 电动机总扭矩(N·m) 驱动电机数    电池类型 电池能量(kWh)           变速箱类型  挡位个数  \\\n0          340         373   单电机  磷酸铁锂电池     61.47         固定齿比变速箱     1   \n1          340         373   单电机  磷酸铁锂电池     61.47         固定齿比变速箱     1   \n2          340         373   单电机  磷酸铁锂电池     61.47         固定齿比变速箱     1   \n3          238         NaN   单电机  磷酸铁锂电池       NaN         固定齿比变速箱     1   \n4          180         316   单电机  磷酸铁锂电池       8.3  电子无级变速箱(E-CVT)  无级变速   \n..         ...         ...   ...     ...       ...             ...   ...   \n110        870        1035   三电机  磷酸铁锂电池      38.5  电子无级变速箱(E-CVT)  无级变速   \n111        272         410   单电机   三元锂电池        43         固定齿比变速箱     1   \n112        490         720   双电机   三元锂电池        43         固定齿比变速箱     1   \n113        292         NaN   单电机  磷酸铁锂电池       NaN         固定齿比变速箱     1   \n114         41          85   单电机  磷酸铁锂电池      17.7         固定齿比变速箱     1   \n\n    方向盘材质    方向盘位置调节     换挡形式  \n0      皮质  手动上下+前后调节  电子式怀挡换挡  \n1      皮质  手动上下+前后调节  电子式怀挡换挡  \n2      皮质  手动上下+前后调节  电子式怀挡换挡  \n3     NaN        NaN      NaN  \n4      皮质  手动上下+前后调节  电子式旋钮换挡  \n..    ...        ...      ...  \n110   NaN        NaN      NaN  \n111    皮质  手动上下+前后调节  电子式怀挡换挡  \n112    皮质  手动上下+前后调节  电子式怀挡换挡  \n113   NaN        NaN      NaN  \n114    塑料        NaN  电子式旋钮换挡  \n\n[115 rows x 26 columns]",
      "text/html": "<div>\n<style scoped>\n    .dataframe tbody tr th:only-of-type {\n        vertical-align: middle;\n    }\n\n    .dataframe tbody tr th {\n        vertical-align: top;\n    }\n\n    .dataframe thead th {\n        text-align: right;\n    }\n</style>\n<table border=\"1\" class=\"dataframe\">\n  <thead>\n    <tr style=\"text-align: right;\">\n      <th></th>\n      <th>品牌</th>\n      <th>车型名称</th>\n      <th>级别</th>\n      <th>上市时间</th>\n      <th>厂商指导价(元)</th>\n      <th>CLTC纯电续航里程(km)</th>\n      <th>电池快充时间(小时)</th>\n      <th>最大功率(kW)</th>\n      <th>最大扭矩(N·m)</th>\n      <th>长*宽*高(mm)</th>\n      <th>...</th>\n      <th>电动机总马力(Ps)</th>\n      <th>电动机总扭矩(N·m)</th>\n      <th>驱动电机数</th>\n      <th>电池类型</th>\n      <th>电池能量(kWh)</th>\n      <th>变速箱类型</th>\n      <th>挡位个数</th>\n      <th>方向盘材质</th>\n      <th>方向盘位置调节</th>\n      <th>换挡形式</th>\n    </tr>\n  </thead>\n  <tbody>\n    <tr>\n      <th>0</th>\n      <td>领克</td>\n      <td>领克Z20 2025款 530km 后驱Pro</td>\n      <td>紧凑型SUV</td>\n      <td>2024.12</td>\n      <td>13.59万</td>\n      <td>530</td>\n      <td>0.25</td>\n      <td>250</td>\n      <td>373</td>\n      <td>4460*1845*1573</td>\n      <td>...</td>\n      <td>340</td>\n      <td>373</td>\n      <td>单电机</td>\n      <td>磷酸铁锂电池</td>\n      <td>61.47</td>\n      <td>固定齿比变速箱</td>\n      <td>1</td>\n      <td>皮质</td>\n      <td>手动上下+前后调节</td>\n      <td>电子式怀挡换挡</td>\n    </tr>\n    <tr>\n      <th>1</th>\n      <td>领克</td>\n      <td>领克Z20 2025款 530km 后驱Max</td>\n      <td>紧凑型SUV</td>\n      <td>2024.12</td>\n      <td>14.59万</td>\n      <td>530</td>\n      <td>0.25</td>\n      <td>250</td>\n      <td>373</td>\n      <td>4460*1845*1573</td>\n      <td>...</td>\n      <td>340</td>\n      <td>373</td>\n      <td>单电机</td>\n      <td>磷酸铁锂电池</td>\n      <td>61.47</td>\n      <td>固定齿比变速箱</td>\n      <td>1</td>\n      <td>皮质</td>\n      <td>手动上下+前后调节</td>\n      <td>电子式怀挡换挡</td>\n    </tr>\n    <tr>\n      <th>2</th>\n      <td>领克</td>\n      <td>领克Z20 2025款 530km 后驱Max逐日版</td>\n      <td>紧凑型SUV</td>\n      <td>2024.12</td>\n      <td>15.09万</td>\n      <td>530</td>\n      <td>0.25</td>\n      <td>250</td>\n      <td>373</td>\n      <td>4460*1845*1573</td>\n      <td>...</td>\n      <td>340</td>\n      <td>373</td>\n      <td>单电机</td>\n      <td>磷酸铁锂电池</td>\n      <td>61.47</td>\n      <td>固定齿比变速箱</td>\n      <td>1</td>\n      <td>皮质</td>\n      <td>手动上下+前后调节</td>\n      <td>电子式怀挡换挡</td>\n    </tr>\n    <tr>\n      <th>3</th>\n      <td>领克</td>\n      <td>领克Z20 2025款 175kW</td>\n      <td>紧凑型SUV</td>\n      <td>NaN</td>\n      <td>NaN</td>\n      <td>NaN</td>\n      <td>NaN</td>\n      <td>175</td>\n      <td>NaN</td>\n      <td>4460*1845*1573</td>\n      <td>...</td>\n      <td>238</td>\n      <td>NaN</td>\n      <td>单电机</td>\n      <td>磷酸铁锂电池</td>\n      <td>NaN</td>\n      <td>固定齿比变速箱</td>\n      <td>1</td>\n      <td>NaN</td>\n      <td>NaN</td>\n      <td>NaN</td>\n    </tr>\n    <tr>\n      <th>4</th>\n      <td>比亚迪</td>\n      <td>驱逐舰05 2024款 荣耀版 DM-i 55KM 豪华型</td>\n      <td>紧凑型车</td>\n      <td>2024.02</td>\n      <td>7.98万</td>\n      <td>NaN</td>\n      <td>NaN</td>\n      <td>81</td>\n      <td>135</td>\n      <td>4780*1837*1495</td>\n      <td>...</td>\n      <td>180</td>\n      <td>316</td>\n      <td>单电机</td>\n      <td>磷酸铁锂电池</td>\n      <td>8.3</td>\n      <td>电子无级变速箱(E-CVT)</td>\n      <td>无级变速</td>\n      <td>皮质</td>\n      <td>手动上下+前后调节</td>\n      <td>电子式旋钮换挡</td>\n    </tr>\n    <tr>\n      <th>...</th>\n      <td>...</td>\n      <td>...</td>\n      <td>...</td>\n      <td>...</td>\n      <td>...</td>\n      <td>...</td>\n      <td>...</td>\n      <td>...</td>\n      <td>...</td>\n      <td>...</td>\n      <td>...</td>\n      <td>...</td>\n      <td>...</td>\n      <td>...</td>\n      <td>...</td>\n      <td>...</td>\n      <td>...</td>\n      <td>...</td>\n      <td>...</td>\n      <td>...</td>\n      <td>...</td>\n    </tr>\n    <tr>\n      <th>110</th>\n      <td>腾势</td>\n      <td>腾势Z9GT 2024款 1100四驱Ultra版</td>\n      <td>中大型车</td>\n      <td>2024.09</td>\n      <td>41.48万</td>\n      <td>201</td>\n      <td>0.32</td>\n      <td>152</td>\n      <td>325</td>\n      <td>5195*1990*1480</td>\n      <td>...</td>\n      <td>870</td>\n      <td>1035</td>\n      <td>三电机</td>\n      <td>磷酸铁锂电池</td>\n      <td>38.5</td>\n      <td>电子无级变速箱(E-CVT)</td>\n      <td>无级变速</td>\n      <td>NaN</td>\n      <td>NaN</td>\n      <td>NaN</td>\n    </tr>\n    <tr>\n      <th>111</th>\n      <td>岚图汽车</td>\n      <td>岚图FREE 2025款 318 318km 后驱环游版</td>\n      <td>中大型SUV</td>\n      <td>2024.06</td>\n      <td>22.89万</td>\n      <td>318</td>\n      <td>0.43</td>\n      <td>110</td>\n      <td>220</td>\n      <td>4905*1950*1645</td>\n      <td>...</td>\n      <td>272</td>\n      <td>410</td>\n      <td>单电机</td>\n      <td>三元锂电池</td>\n      <td>43</td>\n      <td>固定齿比变速箱</td>\n      <td>1</td>\n      <td>皮质</td>\n      <td>手动上下+前后调节</td>\n      <td>电子式怀挡换挡</td>\n    </tr>\n    <tr>\n      <th>112</th>\n      <td>岚图汽车</td>\n      <td>岚图FREE 2025款 318 259km 四驱探索版</td>\n      <td>中大型SUV</td>\n      <td>2024.06</td>\n      <td>26.69万</td>\n      <td>259</td>\n      <td>0.43</td>\n      <td>110</td>\n      <td>220</td>\n      <td>4905*1950*1645</td>\n      <td>...</td>\n      <td>490</td>\n      <td>720</td>\n      <td>双电机</td>\n      <td>三元锂电池</td>\n      <td>43</td>\n      <td>固定齿比变速箱</td>\n      <td>1</td>\n      <td>皮质</td>\n      <td>手动上下+前后调节</td>\n      <td>电子式怀挡换挡</td>\n    </tr>\n    <tr>\n      <th>113</th>\n      <td>岚图汽车</td>\n      <td>岚图FREE 2025款 FREE+ 增程两驱基本型</td>\n      <td>中大型SUV</td>\n      <td>NaN</td>\n      <td>NaN</td>\n      <td>NaN</td>\n      <td>NaN</td>\n      <td>95</td>\n      <td>NaN</td>\n      <td>4915*1960*1660</td>\n      <td>...</td>\n      <td>292</td>\n      <td>NaN</td>\n      <td>单电机</td>\n      <td>磷酸铁锂电池</td>\n      <td>NaN</td>\n      <td>固定齿比变速箱</td>\n      <td>1</td>\n      <td>NaN</td>\n      <td>NaN</td>\n      <td>NaN</td>\n    </tr>\n    <tr>\n      <th>114</th>\n      <td>五菱汽车</td>\n      <td>五菱之光新能源 2025款 标准型</td>\n      <td>微面</td>\n      <td>2025.02</td>\n      <td>4.78万</td>\n      <td>201</td>\n      <td>0.58</td>\n      <td>30</td>\n      <td>85</td>\n      <td>3685*1530*1750</td>\n      <td>...</td>\n      <td>41</td>\n      <td>85</td>\n      <td>单电机</td>\n      <td>磷酸铁锂电池</td>\n      <td>17.7</td>\n      <td>固定齿比变速箱</td>\n      <td>1</td>\n      <td>塑料</td>\n      <td>NaN</td>\n      <td>电子式旋钮换挡</td>\n    </tr>\n  </tbody>\n</table>\n<p>115 rows × 26 columns</p>\n</div>"
     },
     "execution_count": 5,
     "metadata": {},
     "output_type": "execute_result"
    }
   ],
   "source": [
    "# 去除重复值\n",
    "df.drop_duplicates(keep=False,inplace=True)\n",
    "df"
   ],
   "metadata": {
    "collapsed": false,
    "ExecuteTime": {
     "end_time": "2025-07-07T05:27:26.576451700Z",
     "start_time": "2025-07-07T05:27:26.529586500Z"
    }
   },
   "id": "c2f22dcdd0e82be2"
  },
  {
   "cell_type": "code",
   "execution_count": 19,
   "outputs": [
    {
     "data": {
      "text/plain": "       品牌                           车型名称      级别     上市时间 厂商指导价(元)  \\\n0      领克        领克Z20 2025款 530km 后驱Pro  紧凑型SUV  2024.12   13.59万   \n1      领克        领克Z20 2025款 530km 后驱Max  紧凑型SUV  2024.12   14.59万   \n2      领克     领克Z20 2025款 530km 后驱Max逐日版  紧凑型SUV  2024.12   15.09万   \n3      领克              领克Z20 2025款 175kW  紧凑型SUV      NaN      NaN   \n4     比亚迪  驱逐舰05 2024款 荣耀版 DM-i 55KM 豪华型    紧凑型车  2024.02    7.98万   \n..    ...                            ...     ...      ...      ...   \n110    腾势      腾势Z9GT 2024款 1100四驱Ultra版    中大型车  2024.09   41.48万   \n111  岚图汽车   岚图FREE 2025款 318 318km 后驱环游版  中大型SUV  2024.06   22.89万   \n112  岚图汽车   岚图FREE 2025款 318 259km 四驱探索版  中大型SUV  2024.06   26.69万   \n113  岚图汽车     岚图FREE 2025款 FREE+ 增程两驱基本型  中大型SUV      NaN      NaN   \n114  五菱汽车              五菱之光新能源 2025款 标准型      微面  2025.02    4.78万   \n\n    CLTC纯电续航里程(km) 电池快充时间(小时) 最大功率(kW) 最大扭矩(N·m)       长*宽*高(mm)  ...  \\\n0              530       0.25      250       373  4460*1845*1573  ...   \n1              530       0.25      250       373  4460*1845*1573  ...   \n2              530       0.25      250       373  4460*1845*1573  ...   \n3              NaN        NaN      175       NaN  4460*1845*1573  ...   \n4              NaN        NaN       81       135  4780*1837*1495  ...   \n..             ...        ...      ...       ...             ...  ...   \n110            201       0.32      152       325  5195*1990*1480  ...   \n111            318       0.43      110       220  4905*1950*1645  ...   \n112            259       0.43      110       220  4905*1950*1645  ...   \n113            NaN        NaN       95       NaN  4915*1960*1660  ...   \n114            201       0.58       30        85  3685*1530*1750  ...   \n\n    电动机总马力(Ps) 电动机总扭矩(N·m) 驱动电机数    电池类型 电池能量(kWh)           变速箱类型  挡位个数  \\\n0          340         373   单电机  磷酸铁锂电池     61.47         固定齿比变速箱     1   \n1          340         373   单电机  磷酸铁锂电池     61.47         固定齿比变速箱     1   \n2          340         373   单电机  磷酸铁锂电池     61.47         固定齿比变速箱     1   \n3          238         NaN   单电机  磷酸铁锂电池       NaN         固定齿比变速箱     1   \n4          180         316   单电机  磷酸铁锂电池       8.3  电子无级变速箱(E-CVT)  无级变速   \n..         ...         ...   ...     ...       ...             ...   ...   \n110        870        1035   三电机  磷酸铁锂电池      38.5  电子无级变速箱(E-CVT)  无级变速   \n111        272         410   单电机   三元锂电池        43         固定齿比变速箱     1   \n112        490         720   双电机   三元锂电池        43         固定齿比变速箱     1   \n113        292         NaN   单电机  磷酸铁锂电池       NaN         固定齿比变速箱     1   \n114         41          85   单电机  磷酸铁锂电池      17.7         固定齿比变速箱     1   \n\n    方向盘材质    方向盘位置调节     换挡形式  \n0      皮质  手动上下+前后调节  电子式怀挡换挡  \n1      皮质  手动上下+前后调节  电子式怀挡换挡  \n2      皮质  手动上下+前后调节  电子式怀挡换挡  \n3     NaN        NaN      NaN  \n4      皮质  手动上下+前后调节  电子式旋钮换挡  \n..    ...        ...      ...  \n110   NaN        NaN      NaN  \n111    皮质  手动上下+前后调节  电子式怀挡换挡  \n112    皮质  手动上下+前后调节  电子式怀挡换挡  \n113   NaN        NaN      NaN  \n114    塑料        NaN  电子式旋钮换挡  \n\n[115 rows x 26 columns]",
      "text/html": "<div>\n<style scoped>\n    .dataframe tbody tr th:only-of-type {\n        vertical-align: middle;\n    }\n\n    .dataframe tbody tr th {\n        vertical-align: top;\n    }\n\n    .dataframe thead th {\n        text-align: right;\n    }\n</style>\n<table border=\"1\" class=\"dataframe\">\n  <thead>\n    <tr style=\"text-align: right;\">\n      <th></th>\n      <th>品牌</th>\n      <th>车型名称</th>\n      <th>级别</th>\n      <th>上市时间</th>\n      <th>厂商指导价(元)</th>\n      <th>CLTC纯电续航里程(km)</th>\n      <th>电池快充时间(小时)</th>\n      <th>最大功率(kW)</th>\n      <th>最大扭矩(N·m)</th>\n      <th>长*宽*高(mm)</th>\n      <th>...</th>\n      <th>电动机总马力(Ps)</th>\n      <th>电动机总扭矩(N·m)</th>\n      <th>驱动电机数</th>\n      <th>电池类型</th>\n      <th>电池能量(kWh)</th>\n      <th>变速箱类型</th>\n      <th>挡位个数</th>\n      <th>方向盘材质</th>\n      <th>方向盘位置调节</th>\n      <th>换挡形式</th>\n    </tr>\n  </thead>\n  <tbody>\n    <tr>\n      <th>0</th>\n      <td>领克</td>\n      <td>领克Z20 2025款 530km 后驱Pro</td>\n      <td>紧凑型SUV</td>\n      <td>2024.12</td>\n      <td>13.59万</td>\n      <td>530</td>\n      <td>0.25</td>\n      <td>250</td>\n      <td>373</td>\n      <td>4460*1845*1573</td>\n      <td>...</td>\n      <td>340</td>\n      <td>373</td>\n      <td>单电机</td>\n      <td>磷酸铁锂电池</td>\n      <td>61.47</td>\n      <td>固定齿比变速箱</td>\n      <td>1</td>\n      <td>皮质</td>\n      <td>手动上下+前后调节</td>\n      <td>电子式怀挡换挡</td>\n    </tr>\n    <tr>\n      <th>1</th>\n      <td>领克</td>\n      <td>领克Z20 2025款 530km 后驱Max</td>\n      <td>紧凑型SUV</td>\n      <td>2024.12</td>\n      <td>14.59万</td>\n      <td>530</td>\n      <td>0.25</td>\n      <td>250</td>\n      <td>373</td>\n      <td>4460*1845*1573</td>\n      <td>...</td>\n      <td>340</td>\n      <td>373</td>\n      <td>单电机</td>\n      <td>磷酸铁锂电池</td>\n      <td>61.47</td>\n      <td>固定齿比变速箱</td>\n      <td>1</td>\n      <td>皮质</td>\n      <td>手动上下+前后调节</td>\n      <td>电子式怀挡换挡</td>\n    </tr>\n    <tr>\n      <th>2</th>\n      <td>领克</td>\n      <td>领克Z20 2025款 530km 后驱Max逐日版</td>\n      <td>紧凑型SUV</td>\n      <td>2024.12</td>\n      <td>15.09万</td>\n      <td>530</td>\n      <td>0.25</td>\n      <td>250</td>\n      <td>373</td>\n      <td>4460*1845*1573</td>\n      <td>...</td>\n      <td>340</td>\n      <td>373</td>\n      <td>单电机</td>\n      <td>磷酸铁锂电池</td>\n      <td>61.47</td>\n      <td>固定齿比变速箱</td>\n      <td>1</td>\n      <td>皮质</td>\n      <td>手动上下+前后调节</td>\n      <td>电子式怀挡换挡</td>\n    </tr>\n    <tr>\n      <th>3</th>\n      <td>领克</td>\n      <td>领克Z20 2025款 175kW</td>\n      <td>紧凑型SUV</td>\n      <td>NaN</td>\n      <td>NaN</td>\n      <td>NaN</td>\n      <td>NaN</td>\n      <td>175</td>\n      <td>NaN</td>\n      <td>4460*1845*1573</td>\n      <td>...</td>\n      <td>238</td>\n      <td>NaN</td>\n      <td>单电机</td>\n      <td>磷酸铁锂电池</td>\n      <td>NaN</td>\n      <td>固定齿比变速箱</td>\n      <td>1</td>\n      <td>NaN</td>\n      <td>NaN</td>\n      <td>NaN</td>\n    </tr>\n    <tr>\n      <th>4</th>\n      <td>比亚迪</td>\n      <td>驱逐舰05 2024款 荣耀版 DM-i 55KM 豪华型</td>\n      <td>紧凑型车</td>\n      <td>2024.02</td>\n      <td>7.98万</td>\n      <td>NaN</td>\n      <td>NaN</td>\n      <td>81</td>\n      <td>135</td>\n      <td>4780*1837*1495</td>\n      <td>...</td>\n      <td>180</td>\n      <td>316</td>\n      <td>单电机</td>\n      <td>磷酸铁锂电池</td>\n      <td>8.3</td>\n      <td>电子无级变速箱(E-CVT)</td>\n      <td>无级变速</td>\n      <td>皮质</td>\n      <td>手动上下+前后调节</td>\n      <td>电子式旋钮换挡</td>\n    </tr>\n    <tr>\n      <th>...</th>\n      <td>...</td>\n      <td>...</td>\n      <td>...</td>\n      <td>...</td>\n      <td>...</td>\n      <td>...</td>\n      <td>...</td>\n      <td>...</td>\n      <td>...</td>\n      <td>...</td>\n      <td>...</td>\n      <td>...</td>\n      <td>...</td>\n      <td>...</td>\n      <td>...</td>\n      <td>...</td>\n      <td>...</td>\n      <td>...</td>\n      <td>...</td>\n      <td>...</td>\n      <td>...</td>\n    </tr>\n    <tr>\n      <th>110</th>\n      <td>腾势</td>\n      <td>腾势Z9GT 2024款 1100四驱Ultra版</td>\n      <td>中大型车</td>\n      <td>2024.09</td>\n      <td>41.48万</td>\n      <td>201</td>\n      <td>0.32</td>\n      <td>152</td>\n      <td>325</td>\n      <td>5195*1990*1480</td>\n      <td>...</td>\n      <td>870</td>\n      <td>1035</td>\n      <td>三电机</td>\n      <td>磷酸铁锂电池</td>\n      <td>38.5</td>\n      <td>电子无级变速箱(E-CVT)</td>\n      <td>无级变速</td>\n      <td>NaN</td>\n      <td>NaN</td>\n      <td>NaN</td>\n    </tr>\n    <tr>\n      <th>111</th>\n      <td>岚图汽车</td>\n      <td>岚图FREE 2025款 318 318km 后驱环游版</td>\n      <td>中大型SUV</td>\n      <td>2024.06</td>\n      <td>22.89万</td>\n      <td>318</td>\n      <td>0.43</td>\n      <td>110</td>\n      <td>220</td>\n      <td>4905*1950*1645</td>\n      <td>...</td>\n      <td>272</td>\n      <td>410</td>\n      <td>单电机</td>\n      <td>三元锂电池</td>\n      <td>43</td>\n      <td>固定齿比变速箱</td>\n      <td>1</td>\n      <td>皮质</td>\n      <td>手动上下+前后调节</td>\n      <td>电子式怀挡换挡</td>\n    </tr>\n    <tr>\n      <th>112</th>\n      <td>岚图汽车</td>\n      <td>岚图FREE 2025款 318 259km 四驱探索版</td>\n      <td>中大型SUV</td>\n      <td>2024.06</td>\n      <td>26.69万</td>\n      <td>259</td>\n      <td>0.43</td>\n      <td>110</td>\n      <td>220</td>\n      <td>4905*1950*1645</td>\n      <td>...</td>\n      <td>490</td>\n      <td>720</td>\n      <td>双电机</td>\n      <td>三元锂电池</td>\n      <td>43</td>\n      <td>固定齿比变速箱</td>\n      <td>1</td>\n      <td>皮质</td>\n      <td>手动上下+前后调节</td>\n      <td>电子式怀挡换挡</td>\n    </tr>\n    <tr>\n      <th>113</th>\n      <td>岚图汽车</td>\n      <td>岚图FREE 2025款 FREE+ 增程两驱基本型</td>\n      <td>中大型SUV</td>\n      <td>NaN</td>\n      <td>NaN</td>\n      <td>NaN</td>\n      <td>NaN</td>\n      <td>95</td>\n      <td>NaN</td>\n      <td>4915*1960*1660</td>\n      <td>...</td>\n      <td>292</td>\n      <td>NaN</td>\n      <td>单电机</td>\n      <td>磷酸铁锂电池</td>\n      <td>NaN</td>\n      <td>固定齿比变速箱</td>\n      <td>1</td>\n      <td>NaN</td>\n      <td>NaN</td>\n      <td>NaN</td>\n    </tr>\n    <tr>\n      <th>114</th>\n      <td>五菱汽车</td>\n      <td>五菱之光新能源 2025款 标准型</td>\n      <td>微面</td>\n      <td>2025.02</td>\n      <td>4.78万</td>\n      <td>201</td>\n      <td>0.58</td>\n      <td>30</td>\n      <td>85</td>\n      <td>3685*1530*1750</td>\n      <td>...</td>\n      <td>41</td>\n      <td>85</td>\n      <td>单电机</td>\n      <td>磷酸铁锂电池</td>\n      <td>17.7</td>\n      <td>固定齿比变速箱</td>\n      <td>1</td>\n      <td>塑料</td>\n      <td>NaN</td>\n      <td>电子式旋钮换挡</td>\n    </tr>\n  </tbody>\n</table>\n<p>115 rows × 26 columns</p>\n</div>"
     },
     "execution_count": 19,
     "metadata": {},
     "output_type": "execute_result"
    }
   ],
   "source": [
    "# 重命名列名(何以修改为中⽂，也可以是专业英语)\n",
    "df.columns = ['汽⻋型号','图⽚','售价','上牌时间','表显⾥程(公⾥)','链接','地区',\n",
    "'来源']\n",
    "df"
   ],
   "metadata": {
    "collapsed": false,
    "ExecuteTime": {
     "end_time": "2025-07-07T05:36:04.568832700Z",
     "start_time": "2025-07-07T05:36:04.528514700Z"
    }
   },
   "id": "20cd89f07ca5b484"
  },
  {
   "cell_type": "code",
   "execution_count": 22,
   "outputs": [],
   "source": [
    "# 删除异常值\n",
    "s = df['电池快充时间(小时)']\n",
    "mask = s.str.contains('x')\n",
    "df = df.loc[~mask]"
   ],
   "metadata": {
    "collapsed": false,
    "ExecuteTime": {
     "end_time": "2025-07-07T05:38:14.385204100Z",
     "start_time": "2025-07-07T05:38:14.362495100Z"
    }
   },
   "id": "6a981bd94f6f53e"
  },
  {
   "cell_type": "code",
   "execution_count": null,
   "outputs": [],
   "source": [
    "# 年份，⾥程，售价，原价所在列的数据进⾏转换（数值型数据）\n",
    "df['上牌时间'] = pd.to_datetime(df['上牌时间'],format='%Y/%m')\n",
    "df['售价'] = df.售价.map(lambda x:float(x.replace('万','')))\n",
    "df"
   ],
   "metadata": {
    "collapsed": false
   },
   "id": "3fde40c84f1e2ac0"
  },
  {
   "cell_type": "code",
   "execution_count": null,
   "outputs": [],
   "source": [
    "# 缺失值处理\n",
    "df.dropna(how='all')"
   ],
   "metadata": {
    "collapsed": false
   },
   "id": "4ebe9e797fbcb601"
  }
 ],
 "metadata": {
  "kernelspec": {
   "display_name": "Python 3",
   "language": "python",
   "name": "python3"
  },
  "language_info": {
   "codemirror_mode": {
    "name": "ipython",
    "version": 2
   },
   "file_extension": ".py",
   "mimetype": "text/x-python",
   "name": "python",
   "nbconvert_exporter": "python",
   "pygments_lexer": "ipython2",
   "version": "2.7.6"
  }
 },
 "nbformat": 4,
 "nbformat_minor": 5
}
