{
 "cells": [
  {
   "cell_type": "code",
   "execution_count": 1,
   "id": "initial_id",
   "metadata": {
    "collapsed": true,
    "ExecuteTime": {
     "end_time": "2025-05-04T13:05:43.894557900Z",
     "start_time": "2025-05-04T13:05:42.596226300Z"
    }
   },
   "outputs": [
    {
     "name": "stdout",
     "output_type": "stream",
     "text": [
      "                 企业名称                             邮箱\n",
      "0        晃益齒輪工業股份有限公司         geareds@ms35.hinet.net\n",
      "1        隆升精密工業股份有限公司                            NaN\n",
      "2        三其機械工業股份有限公司  sanchyi.machine@msa.hinet.net\n",
      "3            宏翔機械有限公司    fineart.print@msa.hinet.net\n",
      "4            力省機械有限公司          ls.mail@msa.hinet.net\n",
      "...               ...                            ...\n",
      "1007131      祐來企業有限公司       adsl.a0502@msa.hinet.net\n",
      "1007132      浚昌國際有限公司          cu.nick@msa.hinet.net\n",
      "1007133    益昇貿易股份有限公司           d4589@ms15.hinet.net\n",
      "1007134    高茂國際股份有限公司           sales@calaman.com.tw\n",
      "1007135      唐振工業有限公司              connie@tzh.com.tw\n",
      "\n",
      "[1007136 rows x 2 columns]\n"
     ]
    }
   ],
   "source": [
    "import pandas as pd\n",
    "\n",
    "df = pd.read_csv('数据/bus.csv',encoding='gbk')\n",
    "print(df)\n"
   ]
  },
  {
   "cell_type": "markdown",
   "source": [],
   "metadata": {
    "collapsed": false
   },
   "id": "9a28ebde9b3f686d"
  }
 ],
 "metadata": {
  "kernelspec": {
   "display_name": "Python 3",
   "language": "python",
   "name": "python3"
  },
  "language_info": {
   "codemirror_mode": {
    "name": "ipython",
    "version": 2
   },
   "file_extension": ".py",
   "mimetype": "text/x-python",
   "name": "python",
   "nbconvert_exporter": "python",
   "pygments_lexer": "ipython2",
   "version": "2.7.6"
  }
 },
 "nbformat": 4,
 "nbformat_minor": 5
}
