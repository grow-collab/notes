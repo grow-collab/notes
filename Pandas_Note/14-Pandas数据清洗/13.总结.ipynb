{
 "cells": [
  {
   "cell_type": "code",
   "execution_count": 1,
   "id": "initial_id",
   "metadata": {
    "collapsed": true,
    "ExecuteTime": {
     "end_time": "2025-07-07T04:44:11.541095Z",
     "start_time": "2025-07-07T04:44:09.024961900Z"
    }
   },
   "outputs": [],
   "source": [
    "import pandas as pd"
   ]
  },
  {
   "cell_type": "code",
   "execution_count": 62,
   "outputs": [
    {
     "data": {
      "text/plain": "          名称                                  图片      价格       上牌时间      表显里程  \\\n0        宝马1                                 NaN  16.55万 2018-04-01   7.45万公里   \n1        宝马2                                 NaN  17.88万 2018-04-01   27.5万公里   \n2        宝马3                                 NaN  17.88万 2017-08-01  172.5万公里   \n3        宝马4   http://www.fahfafaf.com/11935.jpg  19.33万 2018-04-01   7.51万公里   \n4     小米suv7  http://www.fahfafaf.com/188135.jpg  16.55万 2018-04-01   7.56万公里   \n5         本田  http://www.fahfafaf.com/116635.jpg  17.88万 2022-04-01    7.5万公里   \n6         奔驰   http://www.fahfafaf.com/15135.jpg  10.01万 2018-04-01   7.59万公里   \n7   小米SUV7顶配                                 NaN  17.88万 2018-04-01    9.5万公里   \n8        比亚迪                                 NaN  14.33万 2018-04-01    7.5万公里   \n9         小鹏   http://www.fahfafaf.com/11835.jpg  17.88万 2018-04-01    7.5万公里   \n10       小米1                                 NaN  17.88万 2018-05-01   17.5万公里   \n11      比亚迪2   http://www.fahfafaf.com/91135.jpg  17.88万 2018-04-01    7.5万公里   \n12        揽胜                                 NaN  17.88万 2018-04-01   77.5万公里   \n13      宝马x2                                 NaN  17.88万 2018-04-01    8.5万公里   \n14       奔驰g                                 NaN  16.99万 2018-04-01    7.5万公里   \n15       宝马x   http://www.fahfafaf.com/11835.jpg  17.88万 2025-04-01    7.5万公里   \n16       神行者                                 NaN  17.88万 2018-04-01    7.5万公里   \n17        领动                                 NaN  17.88万 2018-04-01   74.5万公里   \n18       宝马1   http://www.fahfafaf.com/11138.jpg   1.66万 2019-04-01    7.5万公里   \n19       宝马1   http://www.fahfafaf.com/11136.jpg   5.99万 2018-04-01   72.5万公里   \n\n                                      链接  地区     来源  \n0   https：//www.che168.com/lian/112.html  合肥  二手车之家  \n1   https：//www.che168.com/lian/112.html  北京  二手车之家  \n2   https：//www.che168.com/lian/112.html  武汉  二手车之家  \n3   https：//www.che168.com/lian/112.html  常州  二手车之家  \n4   https：//www.che168.com/lian/112.html  淮南  二手车之家  \n5   https：//www.che168.com/lian/112.html  淮北  二手车之家  \n6   https：//www.che168.com/lian/112.html  合肥  二手车之家  \n7   https：//www.che168.com/lian/112.html  邯郸  二手车之家  \n8   https：//www.che168.com/lian/112.html  合肥  二手车之家  \n9   https：//www.che168.com/lian/112.html  合肥    NaN  \n10  https：//www.che168.com/lian/112.html  大庆  二手车之家  \n11  https：//www.che168.com/lian/112.html  合肥  二手车之家  \n12  https：//www.che168.com/lian/112.html  成都  二手车之家  \n13  https：//www.che168.com/lian/112.html  合肥  二手车之家  \n14  https：//www.che168.com/lian/112.html  上海  二手车之家  \n15  https：//www.che168.com/lian/112.html  合肥  二手车之家  \n16  https：//www.che168.com/lian/112.html  合肥  二手车之家  \n17  https：//www.che168.com/lian/112.html  沈阳  二手车之家  \n18  https：//www.che168.com/lian/112.html  长春  二手车之家  \n19  https：//www.che168.com/lian/112.html  大连  二手车之家  ",
      "text/html": "<div>\n<style scoped>\n    .dataframe tbody tr th:only-of-type {\n        vertical-align: middle;\n    }\n\n    .dataframe tbody tr th {\n        vertical-align: top;\n    }\n\n    .dataframe thead th {\n        text-align: right;\n    }\n</style>\n<table border=\"1\" class=\"dataframe\">\n  <thead>\n    <tr style=\"text-align: right;\">\n      <th></th>\n      <th>名称</th>\n      <th>图片</th>\n      <th>价格</th>\n      <th>上牌时间</th>\n      <th>表显里程</th>\n      <th>链接</th>\n      <th>地区</th>\n      <th>来源</th>\n    </tr>\n  </thead>\n  <tbody>\n    <tr>\n      <th>0</th>\n      <td>宝马1</td>\n      <td>NaN</td>\n      <td>16.55万</td>\n      <td>2018-04-01</td>\n      <td>7.45万公里</td>\n      <td>https：//www.che168.com/lian/112.html</td>\n      <td>合肥</td>\n      <td>二手车之家</td>\n    </tr>\n    <tr>\n      <th>1</th>\n      <td>宝马2</td>\n      <td>NaN</td>\n      <td>17.88万</td>\n      <td>2018-04-01</td>\n      <td>27.5万公里</td>\n      <td>https：//www.che168.com/lian/112.html</td>\n      <td>北京</td>\n      <td>二手车之家</td>\n    </tr>\n    <tr>\n      <th>2</th>\n      <td>宝马3</td>\n      <td>NaN</td>\n      <td>17.88万</td>\n      <td>2017-08-01</td>\n      <td>172.5万公里</td>\n      <td>https：//www.che168.com/lian/112.html</td>\n      <td>武汉</td>\n      <td>二手车之家</td>\n    </tr>\n    <tr>\n      <th>3</th>\n      <td>宝马4</td>\n      <td>http://www.fahfafaf.com/11935.jpg</td>\n      <td>19.33万</td>\n      <td>2018-04-01</td>\n      <td>7.51万公里</td>\n      <td>https：//www.che168.com/lian/112.html</td>\n      <td>常州</td>\n      <td>二手车之家</td>\n    </tr>\n    <tr>\n      <th>4</th>\n      <td>小米suv7</td>\n      <td>http://www.fahfafaf.com/188135.jpg</td>\n      <td>16.55万</td>\n      <td>2018-04-01</td>\n      <td>7.56万公里</td>\n      <td>https：//www.che168.com/lian/112.html</td>\n      <td>淮南</td>\n      <td>二手车之家</td>\n    </tr>\n    <tr>\n      <th>5</th>\n      <td>本田</td>\n      <td>http://www.fahfafaf.com/116635.jpg</td>\n      <td>17.88万</td>\n      <td>2022-04-01</td>\n      <td>7.5万公里</td>\n      <td>https：//www.che168.com/lian/112.html</td>\n      <td>淮北</td>\n      <td>二手车之家</td>\n    </tr>\n    <tr>\n      <th>6</th>\n      <td>奔驰</td>\n      <td>http://www.fahfafaf.com/15135.jpg</td>\n      <td>10.01万</td>\n      <td>2018-04-01</td>\n      <td>7.59万公里</td>\n      <td>https：//www.che168.com/lian/112.html</td>\n      <td>合肥</td>\n      <td>二手车之家</td>\n    </tr>\n    <tr>\n      <th>7</th>\n      <td>小米SUV7顶配</td>\n      <td>NaN</td>\n      <td>17.88万</td>\n      <td>2018-04-01</td>\n      <td>9.5万公里</td>\n      <td>https：//www.che168.com/lian/112.html</td>\n      <td>邯郸</td>\n      <td>二手车之家</td>\n    </tr>\n    <tr>\n      <th>8</th>\n      <td>比亚迪</td>\n      <td>NaN</td>\n      <td>14.33万</td>\n      <td>2018-04-01</td>\n      <td>7.5万公里</td>\n      <td>https：//www.che168.com/lian/112.html</td>\n      <td>合肥</td>\n      <td>二手车之家</td>\n    </tr>\n    <tr>\n      <th>9</th>\n      <td>小鹏</td>\n      <td>http://www.fahfafaf.com/11835.jpg</td>\n      <td>17.88万</td>\n      <td>2018-04-01</td>\n      <td>7.5万公里</td>\n      <td>https：//www.che168.com/lian/112.html</td>\n      <td>合肥</td>\n      <td>NaN</td>\n    </tr>\n    <tr>\n      <th>10</th>\n      <td>小米1</td>\n      <td>NaN</td>\n      <td>17.88万</td>\n      <td>2018-05-01</td>\n      <td>17.5万公里</td>\n      <td>https：//www.che168.com/lian/112.html</td>\n      <td>大庆</td>\n      <td>二手车之家</td>\n    </tr>\n    <tr>\n      <th>11</th>\n      <td>比亚迪2</td>\n      <td>http://www.fahfafaf.com/91135.jpg</td>\n      <td>17.88万</td>\n      <td>2018-04-01</td>\n      <td>7.5万公里</td>\n      <td>https：//www.che168.com/lian/112.html</td>\n      <td>合肥</td>\n      <td>二手车之家</td>\n    </tr>\n    <tr>\n      <th>12</th>\n      <td>揽胜</td>\n      <td>NaN</td>\n      <td>17.88万</td>\n      <td>2018-04-01</td>\n      <td>77.5万公里</td>\n      <td>https：//www.che168.com/lian/112.html</td>\n      <td>成都</td>\n      <td>二手车之家</td>\n    </tr>\n    <tr>\n      <th>13</th>\n      <td>宝马x2</td>\n      <td>NaN</td>\n      <td>17.88万</td>\n      <td>2018-04-01</td>\n      <td>8.5万公里</td>\n      <td>https：//www.che168.com/lian/112.html</td>\n      <td>合肥</td>\n      <td>二手车之家</td>\n    </tr>\n    <tr>\n      <th>14</th>\n      <td>奔驰g</td>\n      <td>NaN</td>\n      <td>16.99万</td>\n      <td>2018-04-01</td>\n      <td>7.5万公里</td>\n      <td>https：//www.che168.com/lian/112.html</td>\n      <td>上海</td>\n      <td>二手车之家</td>\n    </tr>\n    <tr>\n      <th>15</th>\n      <td>宝马x</td>\n      <td>http://www.fahfafaf.com/11835.jpg</td>\n      <td>17.88万</td>\n      <td>2025-04-01</td>\n      <td>7.5万公里</td>\n      <td>https：//www.che168.com/lian/112.html</td>\n      <td>合肥</td>\n      <td>二手车之家</td>\n    </tr>\n    <tr>\n      <th>16</th>\n      <td>神行者</td>\n      <td>NaN</td>\n      <td>17.88万</td>\n      <td>2018-04-01</td>\n      <td>7.5万公里</td>\n      <td>https：//www.che168.com/lian/112.html</td>\n      <td>合肥</td>\n      <td>二手车之家</td>\n    </tr>\n    <tr>\n      <th>17</th>\n      <td>领动</td>\n      <td>NaN</td>\n      <td>17.88万</td>\n      <td>2018-04-01</td>\n      <td>74.5万公里</td>\n      <td>https：//www.che168.com/lian/112.html</td>\n      <td>沈阳</td>\n      <td>二手车之家</td>\n    </tr>\n    <tr>\n      <th>18</th>\n      <td>宝马1</td>\n      <td>http://www.fahfafaf.com/11138.jpg</td>\n      <td>1.66万</td>\n      <td>2019-04-01</td>\n      <td>7.5万公里</td>\n      <td>https：//www.che168.com/lian/112.html</td>\n      <td>长春</td>\n      <td>二手车之家</td>\n    </tr>\n    <tr>\n      <th>19</th>\n      <td>宝马1</td>\n      <td>http://www.fahfafaf.com/11136.jpg</td>\n      <td>5.99万</td>\n      <td>2018-04-01</td>\n      <td>72.5万公里</td>\n      <td>https：//www.che168.com/lian/112.html</td>\n      <td>大连</td>\n      <td>二手车之家</td>\n    </tr>\n  </tbody>\n</table>\n</div>"
     },
     "execution_count": 62,
     "metadata": {},
     "output_type": "execute_result"
    }
   ],
   "source": [
    "data = pd.read_excel('数据/二手车之家信息.xlsx')\n",
    "data"
   ],
   "metadata": {
    "collapsed": false,
    "ExecuteTime": {
     "end_time": "2025-07-07T05:20:06.072682200Z",
     "start_time": "2025-07-07T05:20:06.034336100Z"
    }
   },
   "id": "69b1d05a8281eb4c"
  },
  {
   "cell_type": "code",
   "execution_count": 38,
   "outputs": [
    {
     "data": {
      "text/plain": "名称       0\n图片      11\n价格       0\n上牌时间     0\n表显里程     0\n链接       0\n地区       0\n来源       1\ndtype: int64"
     },
     "execution_count": 38,
     "metadata": {},
     "output_type": "execute_result"
    }
   ],
   "source": [
    "data.isnull()\n",
    "(data.isnull()).sum()"
   ],
   "metadata": {
    "collapsed": false,
    "ExecuteTime": {
     "end_time": "2025-07-07T05:11:52.712152Z",
     "start_time": "2025-07-07T05:11:52.699155800Z"
    }
   },
   "id": "6abffe04bdf1078f"
  },
  {
   "cell_type": "code",
   "execution_count": 39,
   "outputs": [
    {
     "data": {
      "text/plain": "        名称                                  图片      价格       上牌时间     表显里程  \\\n3      宝马4   http://www.fahfafaf.com/11935.jpg  19.33万 2018-04-01  7.51万公里   \n4   小米suv7  http://www.fahfafaf.com/188135.jpg  16.55万 2018-04-01  7.56万公里   \n5       本田  http://www.fahfafaf.com/116635.jpg  17.88万 2022-04-01   7.5万公里   \n6       奔驰   http://www.fahfafaf.com/15135.jpg  10.01万 2018-04-01  7.59万公里   \n9       小鹏   http://www.fahfafaf.com/11835.jpg  17.88万 2018-04-01   7.5万公里   \n11    比亚迪2   http://www.fahfafaf.com/91135.jpg  17.88万 2018-04-01   7.5万公里   \n15     宝马x   http://www.fahfafaf.com/11835.jpg  17.88万 2025-04-01   7.5万公里   \n18     宝马1   http://www.fahfafaf.com/11138.jpg   1.66万 2019-04-01   7.5万公里   \n19     宝马1   http://www.fahfafaf.com/11136.jpg   5.99万 2018-04-01  72.5万公里   \n\n                                      链接  地区     来源  \n3   https：//www.che168.com/lian/112.html  常州  二手车之家  \n4   https：//www.che168.com/lian/112.html  淮南  二手车之家  \n5   https：//www.che168.com/lian/112.html  淮北  二手车之家  \n6   https：//www.che168.com/lian/112.html  合肥  二手车之家  \n9   https：//www.che168.com/lian/112.html  合肥    NaN  \n11  https：//www.che168.com/lian/112.html  合肥  二手车之家  \n15  https：//www.che168.com/lian/112.html  合肥  二手车之家  \n18  https：//www.che168.com/lian/112.html  长春  二手车之家  \n19  https：//www.che168.com/lian/112.html  大连  二手车之家  ",
      "text/html": "<div>\n<style scoped>\n    .dataframe tbody tr th:only-of-type {\n        vertical-align: middle;\n    }\n\n    .dataframe tbody tr th {\n        vertical-align: top;\n    }\n\n    .dataframe thead th {\n        text-align: right;\n    }\n</style>\n<table border=\"1\" class=\"dataframe\">\n  <thead>\n    <tr style=\"text-align: right;\">\n      <th></th>\n      <th>名称</th>\n      <th>图片</th>\n      <th>价格</th>\n      <th>上牌时间</th>\n      <th>表显里程</th>\n      <th>链接</th>\n      <th>地区</th>\n      <th>来源</th>\n    </tr>\n  </thead>\n  <tbody>\n    <tr>\n      <th>3</th>\n      <td>宝马4</td>\n      <td>http://www.fahfafaf.com/11935.jpg</td>\n      <td>19.33万</td>\n      <td>2018-04-01</td>\n      <td>7.51万公里</td>\n      <td>https：//www.che168.com/lian/112.html</td>\n      <td>常州</td>\n      <td>二手车之家</td>\n    </tr>\n    <tr>\n      <th>4</th>\n      <td>小米suv7</td>\n      <td>http://www.fahfafaf.com/188135.jpg</td>\n      <td>16.55万</td>\n      <td>2018-04-01</td>\n      <td>7.56万公里</td>\n      <td>https：//www.che168.com/lian/112.html</td>\n      <td>淮南</td>\n      <td>二手车之家</td>\n    </tr>\n    <tr>\n      <th>5</th>\n      <td>本田</td>\n      <td>http://www.fahfafaf.com/116635.jpg</td>\n      <td>17.88万</td>\n      <td>2022-04-01</td>\n      <td>7.5万公里</td>\n      <td>https：//www.che168.com/lian/112.html</td>\n      <td>淮北</td>\n      <td>二手车之家</td>\n    </tr>\n    <tr>\n      <th>6</th>\n      <td>奔驰</td>\n      <td>http://www.fahfafaf.com/15135.jpg</td>\n      <td>10.01万</td>\n      <td>2018-04-01</td>\n      <td>7.59万公里</td>\n      <td>https：//www.che168.com/lian/112.html</td>\n      <td>合肥</td>\n      <td>二手车之家</td>\n    </tr>\n    <tr>\n      <th>9</th>\n      <td>小鹏</td>\n      <td>http://www.fahfafaf.com/11835.jpg</td>\n      <td>17.88万</td>\n      <td>2018-04-01</td>\n      <td>7.5万公里</td>\n      <td>https：//www.che168.com/lian/112.html</td>\n      <td>合肥</td>\n      <td>NaN</td>\n    </tr>\n    <tr>\n      <th>11</th>\n      <td>比亚迪2</td>\n      <td>http://www.fahfafaf.com/91135.jpg</td>\n      <td>17.88万</td>\n      <td>2018-04-01</td>\n      <td>7.5万公里</td>\n      <td>https：//www.che168.com/lian/112.html</td>\n      <td>合肥</td>\n      <td>二手车之家</td>\n    </tr>\n    <tr>\n      <th>15</th>\n      <td>宝马x</td>\n      <td>http://www.fahfafaf.com/11835.jpg</td>\n      <td>17.88万</td>\n      <td>2025-04-01</td>\n      <td>7.5万公里</td>\n      <td>https：//www.che168.com/lian/112.html</td>\n      <td>合肥</td>\n      <td>二手车之家</td>\n    </tr>\n    <tr>\n      <th>18</th>\n      <td>宝马1</td>\n      <td>http://www.fahfafaf.com/11138.jpg</td>\n      <td>1.66万</td>\n      <td>2019-04-01</td>\n      <td>7.5万公里</td>\n      <td>https：//www.che168.com/lian/112.html</td>\n      <td>长春</td>\n      <td>二手车之家</td>\n    </tr>\n    <tr>\n      <th>19</th>\n      <td>宝马1</td>\n      <td>http://www.fahfafaf.com/11136.jpg</td>\n      <td>5.99万</td>\n      <td>2018-04-01</td>\n      <td>72.5万公里</td>\n      <td>https：//www.che168.com/lian/112.html</td>\n      <td>大连</td>\n      <td>二手车之家</td>\n    </tr>\n  </tbody>\n</table>\n</div>"
     },
     "execution_count": 39,
     "metadata": {},
     "output_type": "execute_result"
    }
   ],
   "source": [
    "# 根据那⼀列删除\n",
    "data.dropna(subset=['图片'],inplace=True)\n",
    "data"
   ],
   "metadata": {
    "collapsed": false,
    "ExecuteTime": {
     "end_time": "2025-07-07T05:12:27.680762200Z",
     "start_time": "2025-07-07T05:12:27.659034400Z"
    }
   },
   "id": "b2d52fa7b88e4fb5"
  },
  {
   "cell_type": "code",
   "execution_count": 43,
   "outputs": [
    {
     "data": {
      "text/plain": "9"
     },
     "execution_count": 43,
     "metadata": {},
     "output_type": "execute_result"
    }
   ],
   "source": [
    "# 检查重复值\n",
    "data.duplicated()\n",
    "# 重复值统计\n",
    "data.duplicated().sum()\n",
    "data.drop_duplicates(inplace=True)\n",
    "len(data)"
   ],
   "metadata": {
    "collapsed": false,
    "ExecuteTime": {
     "end_time": "2025-07-07T05:13:08.798075600Z",
     "start_time": "2025-07-07T05:13:08.788104600Z"
    }
   },
   "id": "fcee33f29b73eb9b"
  },
  {
   "cell_type": "code",
   "execution_count": 46,
   "outputs": [
    {
     "data": {
      "text/plain": "3     19.33\n4     16.55\n5     17.88\n6     10.01\n9     17.88\n11    17.88\n15    17.88\n18     1.66\n19     5.99\nName: 价格, dtype: object"
     },
     "execution_count": 46,
     "metadata": {},
     "output_type": "execute_result"
    }
   ],
   "source": [
    "# 字符串操作\n",
    "(data.价格.str.contains('万')).sum()\n",
    "# 删除万 \n",
    "data.价格.map(lambda x:x.replace('万',''))"
   ],
   "metadata": {
    "collapsed": false,
    "ExecuteTime": {
     "end_time": "2025-07-07T05:14:53.465191900Z",
     "start_time": "2025-07-07T05:14:53.426822200Z"
    }
   },
   "id": "86d671029c3ba888"
  },
  {
   "cell_type": "code",
   "execution_count": 57,
   "outputs": [],
   "source": [
    "# 数据类型 ⽅式⼀\n",
    "data.价格.map(lambda x:float(x.replace('万','')))\n",
    "data['列'] = data.价格.map(lambda x:float(x.replace('万','')))"
   ],
   "metadata": {
    "collapsed": false,
    "ExecuteTime": {
     "end_time": "2025-07-07T05:18:22.777130400Z",
     "start_time": "2025-07-07T05:18:22.754400700Z"
    }
   },
   "id": "bf59b9d7bbb721f7"
  },
  {
   "cell_type": "code",
   "execution_count": 63,
   "outputs": [
    {
     "data": {
      "text/plain": "          名称                                  图片      价格       上牌时间     表显里程  \\\n0        宝马1                                 NaN  16.55万 2018-04-01  7.45万公里   \n3        宝马4   http://www.fahfafaf.com/11935.jpg  19.33万 2018-04-01  7.51万公里   \n4     小米suv7  http://www.fahfafaf.com/188135.jpg  16.55万 2018-04-01  7.56万公里   \n5         本田  http://www.fahfafaf.com/116635.jpg  17.88万 2022-04-01   7.5万公里   \n6         奔驰   http://www.fahfafaf.com/15135.jpg  10.01万 2018-04-01  7.59万公里   \n7   小米SUV7顶配                                 NaN  17.88万 2018-04-01   9.5万公里   \n8        比亚迪                                 NaN  14.33万 2018-04-01   7.5万公里   \n9         小鹏   http://www.fahfafaf.com/11835.jpg  17.88万 2018-04-01   7.5万公里   \n10       小米1                                 NaN  17.88万 2018-05-01  17.5万公里   \n11      比亚迪2   http://www.fahfafaf.com/91135.jpg  17.88万 2018-04-01   7.5万公里   \n\n                                      链接  地区     来源  \n0   https：//www.che168.com/lian/112.html  合肥  二手车之家  \n3   https：//www.che168.com/lian/112.html  常州  二手车之家  \n4   https：//www.che168.com/lian/112.html  淮南  二手车之家  \n5   https：//www.che168.com/lian/112.html  淮北  二手车之家  \n6   https：//www.che168.com/lian/112.html  合肥  二手车之家  \n7   https：//www.che168.com/lian/112.html  邯郸  二手车之家  \n8   https：//www.che168.com/lian/112.html  合肥  二手车之家  \n9   https：//www.che168.com/lian/112.html  合肥    NaN  \n10  https：//www.che168.com/lian/112.html  大庆  二手车之家  \n11  https：//www.che168.com/lian/112.html  合肥  二手车之家  ",
      "text/html": "<div>\n<style scoped>\n    .dataframe tbody tr th:only-of-type {\n        vertical-align: middle;\n    }\n\n    .dataframe tbody tr th {\n        vertical-align: top;\n    }\n\n    .dataframe thead th {\n        text-align: right;\n    }\n</style>\n<table border=\"1\" class=\"dataframe\">\n  <thead>\n    <tr style=\"text-align: right;\">\n      <th></th>\n      <th>名称</th>\n      <th>图片</th>\n      <th>价格</th>\n      <th>上牌时间</th>\n      <th>表显里程</th>\n      <th>链接</th>\n      <th>地区</th>\n      <th>来源</th>\n    </tr>\n  </thead>\n  <tbody>\n    <tr>\n      <th>0</th>\n      <td>宝马1</td>\n      <td>NaN</td>\n      <td>16.55万</td>\n      <td>2018-04-01</td>\n      <td>7.45万公里</td>\n      <td>https：//www.che168.com/lian/112.html</td>\n      <td>合肥</td>\n      <td>二手车之家</td>\n    </tr>\n    <tr>\n      <th>3</th>\n      <td>宝马4</td>\n      <td>http://www.fahfafaf.com/11935.jpg</td>\n      <td>19.33万</td>\n      <td>2018-04-01</td>\n      <td>7.51万公里</td>\n      <td>https：//www.che168.com/lian/112.html</td>\n      <td>常州</td>\n      <td>二手车之家</td>\n    </tr>\n    <tr>\n      <th>4</th>\n      <td>小米suv7</td>\n      <td>http://www.fahfafaf.com/188135.jpg</td>\n      <td>16.55万</td>\n      <td>2018-04-01</td>\n      <td>7.56万公里</td>\n      <td>https：//www.che168.com/lian/112.html</td>\n      <td>淮南</td>\n      <td>二手车之家</td>\n    </tr>\n    <tr>\n      <th>5</th>\n      <td>本田</td>\n      <td>http://www.fahfafaf.com/116635.jpg</td>\n      <td>17.88万</td>\n      <td>2022-04-01</td>\n      <td>7.5万公里</td>\n      <td>https：//www.che168.com/lian/112.html</td>\n      <td>淮北</td>\n      <td>二手车之家</td>\n    </tr>\n    <tr>\n      <th>6</th>\n      <td>奔驰</td>\n      <td>http://www.fahfafaf.com/15135.jpg</td>\n      <td>10.01万</td>\n      <td>2018-04-01</td>\n      <td>7.59万公里</td>\n      <td>https：//www.che168.com/lian/112.html</td>\n      <td>合肥</td>\n      <td>二手车之家</td>\n    </tr>\n    <tr>\n      <th>7</th>\n      <td>小米SUV7顶配</td>\n      <td>NaN</td>\n      <td>17.88万</td>\n      <td>2018-04-01</td>\n      <td>9.5万公里</td>\n      <td>https：//www.che168.com/lian/112.html</td>\n      <td>邯郸</td>\n      <td>二手车之家</td>\n    </tr>\n    <tr>\n      <th>8</th>\n      <td>比亚迪</td>\n      <td>NaN</td>\n      <td>14.33万</td>\n      <td>2018-04-01</td>\n      <td>7.5万公里</td>\n      <td>https：//www.che168.com/lian/112.html</td>\n      <td>合肥</td>\n      <td>二手车之家</td>\n    </tr>\n    <tr>\n      <th>9</th>\n      <td>小鹏</td>\n      <td>http://www.fahfafaf.com/11835.jpg</td>\n      <td>17.88万</td>\n      <td>2018-04-01</td>\n      <td>7.5万公里</td>\n      <td>https：//www.che168.com/lian/112.html</td>\n      <td>合肥</td>\n      <td>NaN</td>\n    </tr>\n    <tr>\n      <th>10</th>\n      <td>小米1</td>\n      <td>NaN</td>\n      <td>17.88万</td>\n      <td>2018-05-01</td>\n      <td>17.5万公里</td>\n      <td>https：//www.che168.com/lian/112.html</td>\n      <td>大庆</td>\n      <td>二手车之家</td>\n    </tr>\n    <tr>\n      <th>11</th>\n      <td>比亚迪2</td>\n      <td>http://www.fahfafaf.com/91135.jpg</td>\n      <td>17.88万</td>\n      <td>2018-04-01</td>\n      <td>7.5万公里</td>\n      <td>https：//www.che168.com/lian/112.html</td>\n      <td>合肥</td>\n      <td>二手车之家</td>\n    </tr>\n  </tbody>\n</table>\n</div>"
     },
     "execution_count": 63,
     "metadata": {},
     "output_type": "execute_result"
    }
   ],
   "source": [
    "# ⽅式⼆\n",
    "data.价格.map(lambda x:x.replace('万','')).astype('float64')\n",
    "# 处理异常数据\n",
    "data.drop([2,1],inplace=True)\n",
    "#打印前五⾏\n",
    "data.head(10)"
   ],
   "metadata": {
    "collapsed": false,
    "ExecuteTime": {
     "end_time": "2025-07-07T05:20:10.881401100Z",
     "start_time": "2025-07-07T05:20:10.865299300Z"
    }
   },
   "id": "b146cb2e3a96b0cf"
  },
  {
   "cell_type": "code",
   "execution_count": null,
   "outputs": [],
   "source": [],
   "metadata": {
    "collapsed": false
   },
   "id": "525485aeb6ca2de4"
  }
 ],
 "metadata": {
  "kernelspec": {
   "display_name": "Python 3",
   "language": "python",
   "name": "python3"
  },
  "language_info": {
   "codemirror_mode": {
    "name": "ipython",
    "version": 2
   },
   "file_extension": ".py",
   "mimetype": "text/x-python",
   "name": "python",
   "nbconvert_exporter": "python",
   "pygments_lexer": "ipython2",
   "version": "2.7.6"
  }
 },
 "nbformat": 4,
 "nbformat_minor": 5
}
