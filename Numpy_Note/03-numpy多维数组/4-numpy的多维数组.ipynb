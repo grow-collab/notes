{
 "cells": [
  {
   "cell_type": "code",
   "execution_count": 6,
   "id": "initial_id",
   "metadata": {
    "collapsed": true,
    "ExecuteTime": {
     "end_time": "2024-11-07T07:50:21.091431Z",
     "start_time": "2024-11-07T07:50:21.086441300Z"
    }
   },
   "outputs": [],
   "source": [
    "import numpy as np"
   ]
  },
  {
   "cell_type": "code",
   "execution_count": 7,
   "outputs": [
    {
     "name": "stdout",
     "output_type": "stream",
     "text": [
      "[1 2 3 8]\n",
      "1\n"
     ]
    }
   ],
   "source": [
    "a = np.array([1,2,3,8])\n",
    "\n",
    "print(a)\n",
    "print(a.ndim) # 获取维度"
   ],
   "metadata": {
    "collapsed": false,
    "ExecuteTime": {
     "end_time": "2024-11-07T07:50:23.022001600Z",
     "start_time": "2024-11-07T07:50:23.017533900Z"
    }
   },
   "id": "e995dd1f27016c83"
  },
  {
   "cell_type": "code",
   "execution_count": 8,
   "outputs": [
    {
     "name": "stdout",
     "output_type": "stream",
     "text": [
      "[[1 2 3]\n",
      " [4 5 6]]\n",
      "2\n"
     ]
    }
   ],
   "source": [
    "b = np.array([[1,2,3],[4,5,6]])\n",
    "print(b)\n",
    "print(b.ndim)"
   ],
   "metadata": {
    "collapsed": false,
    "ExecuteTime": {
     "end_time": "2024-11-07T07:50:26.191589400Z",
     "start_time": "2024-11-07T07:50:26.189591300Z"
    }
   },
   "id": "f51ab0b7a15d34a7"
  },
  {
   "cell_type": "code",
   "execution_count": 9,
   "outputs": [
    {
     "name": "stdout",
     "output_type": "stream",
     "text": [
      "[[[8 9 7]\n",
      "  [4 5 6]]]\n",
      "3\n"
     ]
    }
   ],
   "source": [
    "c = np.array([[[8,9,7],[4,5,6]]])\n",
    "print(c)\n",
    "print(c.ndim)"
   ],
   "metadata": {
    "collapsed": false,
    "ExecuteTime": {
     "end_time": "2024-11-07T07:50:27.710700800Z",
     "start_time": "2024-11-07T07:50:27.708199300Z"
    }
   },
   "id": "4b29665245e59033"
  },
  {
   "cell_type": "code",
   "execution_count": 10,
   "outputs": [
    {
     "data": {
      "text/plain": "(1, 2, 3)"
     },
     "execution_count": 10,
     "metadata": {},
     "output_type": "execute_result"
    }
   ],
   "source": [
    "c.shape # 查询数组形状"
   ],
   "metadata": {
    "collapsed": false,
    "ExecuteTime": {
     "end_time": "2024-11-07T07:50:28.612780400Z",
     "start_time": "2024-11-07T07:50:28.602225300Z"
    }
   },
   "id": "f7566ea55cd5db9f"
  },
  {
   "cell_type": "code",
   "execution_count": 11,
   "outputs": [
    {
     "name": "stdout",
     "output_type": "stream",
     "text": [
      "6\n"
     ]
    }
   ],
   "source": [
    "print(c.size) # 总元素"
   ],
   "metadata": {
    "collapsed": false,
    "ExecuteTime": {
     "end_time": "2024-11-07T07:50:29.160142400Z",
     "start_time": "2024-11-07T07:50:29.156644300Z"
    }
   },
   "id": "f9a61fe58558d403"
  },
  {
   "cell_type": "code",
   "execution_count": 12,
   "outputs": [
    {
     "name": "stdout",
     "output_type": "stream",
     "text": [
      "8\n"
     ]
    }
   ],
   "source": [
    "print(c.itemsize) # 返回的是8，字节为8，每一个字节占8位"
   ],
   "metadata": {
    "collapsed": false,
    "ExecuteTime": {
     "end_time": "2024-11-07T07:50:29.904537200Z",
     "start_time": "2024-11-07T07:50:29.900532500Z"
    }
   },
   "id": "72212b7306502a9a"
  },
  {
   "cell_type": "code",
   "execution_count": 13,
   "outputs": [
    {
     "data": {
      "text/plain": "48"
     },
     "execution_count": 13,
     "metadata": {},
     "output_type": "execute_result"
    }
   ],
   "source": [
    "c.itemsize*c.size # 总字节\n",
    "c.nbytes"
   ],
   "metadata": {
    "collapsed": false,
    "ExecuteTime": {
     "end_time": "2024-11-07T07:50:30.428990400Z",
     "start_time": "2024-11-07T07:50:30.412978500Z"
    }
   },
   "id": "d5981586b4d0e37f"
  },
  {
   "cell_type": "code",
   "execution_count": 14,
   "outputs": [
    {
     "data": {
      "text/plain": "(3,)"
     },
     "execution_count": 14,
     "metadata": {},
     "output_type": "execute_result"
    }
   ],
   "source": [
    "a1 = np.array([1,2,3])\n",
    "a1.shape # 返回的3，代表一维 有三个数据"
   ],
   "metadata": {
    "collapsed": false,
    "ExecuteTime": {
     "end_time": "2024-11-07T07:50:31.156927600Z",
     "start_time": "2024-11-07T07:50:31.153404Z"
    }
   },
   "id": "6e6a408f2ab08304"
  },
  {
   "cell_type": "code",
   "execution_count": 15,
   "outputs": [
    {
     "data": {
      "text/plain": "(2, 3)"
     },
     "execution_count": 15,
     "metadata": {},
     "output_type": "execute_result"
    }
   ],
   "source": [
    "a2 = np.array([[1,2,3],[4,5,6]])\n",
    "a2.shape"
   ],
   "metadata": {
    "collapsed": false,
    "ExecuteTime": {
     "end_time": "2024-11-07T07:50:33.750356900Z",
     "start_time": "2024-11-07T07:50:33.746446Z"
    }
   },
   "id": "3e1f1abac4fe27eb"
  },
  {
   "cell_type": "code",
   "execution_count": 16,
   "outputs": [
    {
     "data": {
      "text/plain": "(2, 3, 4)"
     },
     "execution_count": 16,
     "metadata": {},
     "output_type": "execute_result"
    }
   ],
   "source": [
    "a3 = np.array([[[1,2,3,4],[4,5,6,7],[7,8,9,5]],[[1,2,3,4,],[4,5,6,7],[7,8,9,10]]])\n",
    "a3.shape # 2，3，4 返回的意思是 包含2个3*4的数组： 有两个大组，三个小组，每个小组里面有4个元素"
   ],
   "metadata": {
    "collapsed": false,
    "ExecuteTime": {
     "end_time": "2024-11-07T07:50:34.551890900Z",
     "start_time": "2024-11-07T07:50:34.544953400Z"
    }
   },
   "id": "bd57da2dac2c3eab"
  },
  {
   "cell_type": "code",
   "execution_count": 17,
   "outputs": [
    {
     "name": "stdout",
     "output_type": "stream",
     "text": [
      "[ 0  1  2  3  4  5  6  7  8  9 10 11]\n"
     ]
    }
   ],
   "source": [
    "a8 = np.arange(12)\n",
    "a8.reshape((3,4)) # 修改形状\n",
    "print(a8)"
   ],
   "metadata": {
    "collapsed": false,
    "ExecuteTime": {
     "end_time": "2024-11-07T07:50:35.028891500Z",
     "start_time": "2024-11-07T07:50:35.013065500Z"
    }
   },
   "id": "b77268de08029469"
  },
  {
   "cell_type": "markdown",
   "source": [],
   "metadata": {
    "collapsed": false
   },
   "id": "a6daf7016f8a153a"
  },
  {
   "cell_type": "code",
   "execution_count": 30,
   "outputs": [
    {
     "data": {
      "text/plain": "array([[[ 0,  1],\n        [ 2,  3],\n        [ 4,  5]],\n\n       [[ 6,  7],\n        [ 8,  9],\n        [10, 11]]])"
     },
     "execution_count": 30,
     "metadata": {},
     "output_type": "execute_result"
    }
   ],
   "source": [
    "a8.reshape((2,3,2)) # 两个大组，三个小组，每个小组里面有2个元素"
   ],
   "metadata": {
    "collapsed": false,
    "ExecuteTime": {
     "end_time": "2024-11-07T00:01:57.218269900Z",
     "start_time": "2024-11-07T00:01:57.197254800Z"
    }
   },
   "id": "7811930e8dca0674"
  },
  {
   "cell_type": "code",
   "execution_count": 43,
   "outputs": [
    {
     "name": "stdout",
     "output_type": "stream",
     "text": [
      "2\n"
     ]
    },
    {
     "data": {
      "text/plain": "1"
     },
     "execution_count": 43,
     "metadata": {},
     "output_type": "execute_result"
    }
   ],
   "source": [
    "u = np.array([[5,9,40,50],[6,8,9,10]])\n",
    "print(u.ndim)\n",
    "m = u.reshape(8,) # 将一个二维数组，变成一维数组\n",
    "# 无论reshape怎么去修改，都不会影响原来的数组，而是将修改后的结果返回给一个新的数组。如果要修改，可以用resize替换\n",
    "m.ndim"
   ],
   "metadata": {
    "collapsed": false,
    "ExecuteTime": {
     "end_time": "2024-11-07T00:09:10.502794400Z",
     "start_time": "2024-11-07T00:09:10.491973900Z"
    }
   },
   "id": "69804bb8498d7dad"
  },
  {
   "cell_type": "code",
   "execution_count": 46,
   "outputs": [
    {
     "data": {
      "text/plain": "array([ 5,  9, 40, 50,  6,  8,  9, 10])"
     },
     "execution_count": 46,
     "metadata": {},
     "output_type": "execute_result"
    }
   ],
   "source": [
    "u.flatten()\n",
    "\n"
   ],
   "metadata": {
    "collapsed": false,
    "ExecuteTime": {
     "end_time": "2024-11-07T00:47:47.841994600Z",
     "start_time": "2024-11-07T00:47:47.827231700Z"
    }
   },
   "id": "f1d9d9c0d928f2b7"
  },
  {
   "cell_type": "code",
   "execution_count": null,
   "outputs": [],
   "source": [
    "'''\n",
    "总结\n",
    "1. 数值⼀般达到3维就已经很复杂了,所以我们⼀般都会把3维以上的数组转换为2维数值进⾏计算\n",
    "2. 可以通过 ndarray.ndim来查看数组的维度\n",
    "3. 可以通过 ndarray.shape来查看数值的形状(⼏组⼏⾏⼏列)\n",
    "4, 可以通过 reshape来修改数组的⼀个形状 不会影响原来的数组 ⽽是将修改后的结果返回给⼀\n",
    "个新的对象\n",
    " 注意: 修改后的元素个数必须和原来的个数⼀致 ⽐如原来是(2,6) 那么修改后可以是(3,\n",
    "4) 但是不能这样写(1,4)\n",
    "5. 可以通过 ndarray.size 来查看数组总共有多少元素\n",
    "6. 可以"
   ],
   "metadata": {
    "collapsed": false
   },
   "id": "1a7f24f5df7dc65a"
  }
 ],
 "metadata": {
  "kernelspec": {
   "display_name": "Python 3",
   "language": "python",
   "name": "python3"
  },
  "language_info": {
   "codemirror_mode": {
    "name": "ipython",
    "version": 2
   },
   "file_extension": ".py",
   "mimetype": "text/x-python",
   "name": "python",
   "nbconvert_exporter": "python",
   "pygments_lexer": "ipython2",
   "version": "2.7.6"
  }
 },
 "nbformat": 4,
 "nbformat_minor": 5
}
