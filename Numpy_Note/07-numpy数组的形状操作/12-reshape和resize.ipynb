{
 "cells": [
  {
   "cell_type": "code",
   "execution_count": 1,
   "id": "initial_id",
   "metadata": {
    "collapsed": true,
    "ExecuteTime": {
     "end_time": "2024-11-08T07:28:35.192965800Z",
     "start_time": "2024-11-08T07:28:35.061116800Z"
    }
   },
   "outputs": [],
   "source": [
    "import numpy as np"
   ]
  },
  {
   "cell_type": "code",
   "execution_count": 2,
   "outputs": [
    {
     "data": {
      "text/plain": "array([[7, 2, 8, 8],\n       [8, 1, 6, 2],\n       [9, 8, 3, 4]], dtype=int32)"
     },
     "execution_count": 2,
     "metadata": {},
     "output_type": "execute_result"
    }
   ],
   "source": [
    "a = np.random.randint(1,10,size=(3,4))\n",
    "a"
   ],
   "metadata": {
    "collapsed": false,
    "ExecuteTime": {
     "end_time": "2024-11-08T07:31:57.754292Z",
     "start_time": "2024-11-08T07:31:57.709939400Z"
    }
   },
   "id": "5fd57f61044c1a66"
  },
  {
   "cell_type": "code",
   "execution_count": 3,
   "outputs": [
    {
     "data": {
      "text/plain": "array([[7, 2, 8, 8, 8, 1],\n       [6, 2, 9, 8, 3, 4]], dtype=int32)"
     },
     "execution_count": 3,
     "metadata": {},
     "output_type": "execute_result"
    }
   ],
   "source": [
    "b = a.reshape((2,6))\n",
    "b"
   ],
   "metadata": {
    "collapsed": false,
    "ExecuteTime": {
     "end_time": "2024-11-08T07:32:14.051155500Z",
     "start_time": "2024-11-08T07:32:14.044908300Z"
    }
   },
   "id": "9bf5a79b83cf8bad"
  },
  {
   "cell_type": "code",
   "execution_count": 4,
   "outputs": [
    {
     "data": {
      "text/plain": "array([[7, 2, 8, 8],\n       [8, 1, 6, 2],\n       [9, 8, 3, 4]], dtype=int32)"
     },
     "execution_count": 4,
     "metadata": {},
     "output_type": "execute_result"
    }
   ],
   "source": [
    "a"
   ],
   "metadata": {
    "collapsed": false,
    "ExecuteTime": {
     "end_time": "2024-11-08T07:32:45.806840900Z",
     "start_time": "2024-11-08T07:32:45.800556200Z"
    }
   },
   "id": "80874774cbf66a62"
  },
  {
   "cell_type": "code",
   "execution_count": 6,
   "outputs": [
    {
     "name": "stdout",
     "output_type": "stream",
     "text": [
      "[[ 0  1  2  3  4  5  6  7]\n",
      " [ 8  9 10 11 12 13 14 15]\n",
      " [16 17 18 19 20 21 22 23]]\n",
      "[[ 0  1  2  3  4  5]\n",
      " [ 6  7  8  9 10 11]\n",
      " [12 13 14 15 16 17]\n",
      " [18 19 20 21 22 23]]\n"
     ]
    }
   ],
   "source": [
    "# resize 会直接修改数组本身\n",
    "# reshape 不会修改数组本身，返回一个新的数组\n",
    "a2 = np.arange(24).reshape(3,8)\n",
    "print(a2)\n",
    "a2.resize(4,6)\n",
    "print(a2)"
   ],
   "metadata": {
    "collapsed": false,
    "ExecuteTime": {
     "end_time": "2024-11-08T07:36:47.151253500Z",
     "start_time": "2024-11-08T07:36:47.141687Z"
    }
   },
   "id": "5671e15254375e94"
  },
  {
   "cell_type": "code",
   "execution_count": null,
   "outputs": [],
   "source": [],
   "metadata": {
    "collapsed": false
   },
   "id": "fd104309af6704b5"
  }
 ],
 "metadata": {
  "kernelspec": {
   "display_name": "Python 3",
   "language": "python",
   "name": "python3"
  },
  "language_info": {
   "codemirror_mode": {
    "name": "ipython",
    "version": 2
   },
   "file_extension": ".py",
   "mimetype": "text/x-python",
   "name": "python",
   "nbconvert_exporter": "python",
   "pygments_lexer": "ipython2",
   "version": "2.7.6"
  }
 },
 "nbformat": 4,
 "nbformat_minor": 5
}
