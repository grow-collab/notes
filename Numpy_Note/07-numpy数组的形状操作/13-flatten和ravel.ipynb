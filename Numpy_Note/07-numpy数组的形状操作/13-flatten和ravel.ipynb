{
 "cells": [
  {
   "cell_type": "code",
   "execution_count": 1,
   "id": "initial_id",
   "metadata": {
    "collapsed": true,
    "ExecuteTime": {
     "end_time": "2024-11-08T07:38:17.867968900Z",
     "start_time": "2024-11-08T07:38:17.789313Z"
    }
   },
   "outputs": [],
   "source": [
    "import numpy as np"
   ]
  },
  {
   "cell_type": "code",
   "execution_count": 4,
   "outputs": [
    {
     "data": {
      "text/plain": "array([[1, 2, 3],\n       [4, 5, 6]])"
     },
     "execution_count": 4,
     "metadata": {},
     "output_type": "execute_result"
    }
   ],
   "source": [
    "# flatten 和 ravl多维转化为一维\n",
    "arr = np.array([[1,2,3],[4,5,6]])\n",
    "arr"
   ],
   "metadata": {
    "collapsed": false,
    "ExecuteTime": {
     "end_time": "2024-11-08T07:49:48.536942Z",
     "start_time": "2024-11-08T07:49:48.525394Z"
    }
   },
   "id": "7e481ff601ca9357"
  },
  {
   "cell_type": "code",
   "execution_count": 7,
   "outputs": [
    {
     "data": {
      "text/plain": "np.int64(-98)"
     },
     "execution_count": 7,
     "metadata": {},
     "output_type": "execute_result"
    }
   ],
   "source": [
    "a3 = arr.flatten()[1]-100 #flatten是将数组转换成⼀位数数组后，然后将这数组拷⻉回去，后续对这个数组进⾏修改不会影响之前的数组\n",
    "a3"
   ],
   "metadata": {
    "collapsed": false,
    "ExecuteTime": {
     "end_time": "2024-11-08T07:50:40.208684900Z",
     "start_time": "2024-11-08T07:50:40.195998300Z"
    }
   },
   "id": "302e60c39a2eb0ca"
  },
  {
   "cell_type": "code",
   "execution_count": 8,
   "outputs": [
    {
     "data": {
      "text/plain": "array([[0, 1, 2, 3, 4],\n       [5, 6, 7, 8, 9]])"
     },
     "execution_count": 8,
     "metadata": {},
     "output_type": "execute_result"
    }
   ],
   "source": [
    "c = np.arange(0,10).reshape((2,5))\n",
    "c"
   ],
   "metadata": {
    "collapsed": false,
    "ExecuteTime": {
     "end_time": "2024-11-08T07:55:25.235677700Z",
     "start_time": "2024-11-08T07:55:25.227588400Z"
    }
   },
   "id": "3264b6221125d5d0"
  },
  {
   "cell_type": "code",
   "execution_count": 14,
   "outputs": [
    {
     "data": {
      "text/plain": "array([  0, 101,   2,   3,   4,   5,   6,   7,   8,   9])"
     },
     "execution_count": 14,
     "metadata": {},
     "output_type": "execute_result"
    }
   ],
   "source": [
    "c3 = c.ravel() # ravel:把引⽤地址返回回去,所有对其本数据进⾏修改会影响之前的数据\n",
    "c3[1] = c3[1]+100\n",
    "c3"
   ],
   "metadata": {
    "collapsed": false,
    "ExecuteTime": {
     "end_time": "2024-11-08T07:58:51.632550100Z",
     "start_time": "2024-11-08T07:58:51.623165Z"
    }
   },
   "id": "3e7d433d966c3f5e"
  },
  {
   "cell_type": "code",
   "execution_count": 15,
   "outputs": [
    {
     "data": {
      "text/plain": "array([[  0, 101,   2,   3,   4],\n       [  5,   6,   7,   8,   9]])"
     },
     "execution_count": 15,
     "metadata": {},
     "output_type": "execute_result"
    }
   ],
   "source": [
    "c"
   ],
   "metadata": {
    "collapsed": false,
    "ExecuteTime": {
     "end_time": "2024-11-08T07:59:00.832786300Z",
     "start_time": "2024-11-08T07:59:00.823369600Z"
    }
   },
   "id": "5e9c0e8b7081217e"
  },
  {
   "cell_type": "code",
   "execution_count": null,
   "outputs": [],
   "source": [
    "# 1.flatten 和ravel都是改变数组形状的，但是flatten不会改变数组本身，而是返回一个新的数组，ravel会直接修改数组本身\n",
    "\"\"\"\n",
    "总结:1.reshape和resize都是重新定义形状的, 但是 reshape不会修改数组的本身,⽽是将修改后的结果返回回去给⼀个新的对象    resize 是直接修改数组本身\n",
    "2. 02.flatten和ravel 都是⽤来将数组转变问⼀维数组,并且他们都不会对源数据造成修改,但是flatten返回的是⼀个拷⻉,所有对02.flatten和ravl.ipynb\n",
    "的返回值的修改不会影响其他(原来)的数组,ravel返回的是⼀个引⽤地址,那么会对原来的值进⾏修改\n",
    "\"\"\";"
   ],
   "metadata": {
    "collapsed": false
   },
   "id": "75425ea0f495ecc0"
  }
 ],
 "metadata": {
  "kernelspec": {
   "display_name": "Python 3",
   "language": "python",
   "name": "python3"
  },
  "language_info": {
   "codemirror_mode": {
    "name": "ipython",
    "version": 2
   },
   "file_extension": ".py",
   "mimetype": "text/x-python",
   "name": "python",
   "nbconvert_exporter": "python",
   "pygments_lexer": "ipython2",
   "version": "2.7.6"
  }
 },
 "nbformat": 4,
 "nbformat_minor": 5
}
