{
 "cells": [
  {
   "cell_type": "code",
   "execution_count": 1,
   "id": "initial_id",
   "metadata": {
    "collapsed": true,
    "ExecuteTime": {
     "end_time": "2024-11-08T11:07:20.035702800Z",
     "start_time": "2024-11-08T11:07:19.937384Z"
    }
   },
   "outputs": [],
   "source": [
    "import numpy as np"
   ]
  },
  {
   "cell_type": "code",
   "execution_count": 2,
   "outputs": [
    {
     "data": {
      "text/plain": "array([[ 0,  1,  2,  3],\n       [ 4,  5,  6,  7],\n       [ 8,  9, 10, 11],\n       [12, 13, 14, 15]])"
     },
     "execution_count": 2,
     "metadata": {},
     "output_type": "execute_result"
    }
   ],
   "source": [
    "a = np.arange(16).reshape(4,4)\n",
    "a"
   ],
   "metadata": {
    "collapsed": false,
    "ExecuteTime": {
     "end_time": "2024-11-08T11:08:32.312232600Z",
     "start_time": "2024-11-08T11:08:32.277241300Z"
    }
   },
   "id": "4b5eec8410801e8e"
  },
  {
   "cell_type": "code",
   "execution_count": 5,
   "outputs": [
    {
     "data": {
      "text/plain": "[array([[0, 1, 2, 3],\n        [4, 5, 6, 7]]),\n array([[ 8,  9, 10, 11],\n        [12, 13, 14, 15]])]"
     },
     "execution_count": 5,
     "metadata": {},
     "output_type": "execute_result"
    }
   ],
   "source": [
    "a2 = np.vsplit(a,2) # v水平切割 h垂直切割\n",
    "a2"
   ],
   "metadata": {
    "collapsed": false,
    "ExecuteTime": {
     "end_time": "2024-11-08T11:15:14.951660800Z",
     "start_time": "2024-11-08T11:15:14.939575Z"
    }
   },
   "id": "efd0b77be07a987c"
  },
  {
   "cell_type": "code",
   "execution_count": 6,
   "outputs": [
    {
     "data": {
      "text/plain": "[array([[ 0],\n        [ 4],\n        [ 8],\n        [12]]),\n array([[ 1],\n        [ 5],\n        [ 9],\n        [13]]),\n array([[ 2,  3],\n        [ 6,  7],\n        [10, 11],\n        [14, 15]])]"
     },
     "execution_count": 6,
     "metadata": {},
     "output_type": "execute_result"
    }
   ],
   "source": [
    "np.hsplit(a,[1,2]) # 代表在下标为1的地方切一刀，为2的地方也切一刀，因此分成了三部分"
   ],
   "metadata": {
    "collapsed": false,
    "ExecuteTime": {
     "end_time": "2024-11-08T11:19:28.837653100Z",
     "start_time": "2024-11-08T11:19:28.829147200Z"
    }
   },
   "id": "4f26805361edfb41"
  },
  {
   "cell_type": "code",
   "execution_count": 7,
   "outputs": [
    {
     "data": {
      "text/plain": "array([[4, 4, 2, 2],\n       [8, 8, 5, 4],\n       [7, 9, 8, 1],\n       [5, 7, 1, 5]], dtype=int32)"
     },
     "execution_count": 7,
     "metadata": {},
     "output_type": "execute_result"
    }
   ],
   "source": [
    "g = np.random.randint(1,10,size=(4,4))\n",
    "g"
   ],
   "metadata": {
    "collapsed": false,
    "ExecuteTime": {
     "end_time": "2024-11-08T11:32:31.881615300Z",
     "start_time": "2024-11-08T11:32:31.866424700Z"
    }
   },
   "id": "d5193da58b308d78"
  },
  {
   "cell_type": "code",
   "execution_count": 8,
   "outputs": [
    {
     "data": {
      "text/plain": "[array([[4, 4, 2, 2],\n        [8, 8, 5, 4]], dtype=int32),\n array([[7, 9, 8, 1],\n        [5, 7, 1, 5]], dtype=int32)]"
     },
     "execution_count": 8,
     "metadata": {},
     "output_type": "execute_result"
    }
   ],
   "source": [
    "np.array_split(g,2,axis=0) # 水平切割"
   ],
   "metadata": {
    "collapsed": false,
    "ExecuteTime": {
     "end_time": "2024-11-08T11:33:38.914365500Z",
     "start_time": "2024-11-08T11:33:38.905406500Z"
    }
   },
   "id": "1d18f248ba2bebe1"
  },
  {
   "cell_type": "code",
   "execution_count": 9,
   "outputs": [
    {
     "data": {
      "text/plain": "[array([[4, 4],\n        [8, 8],\n        [7, 9],\n        [5, 7]], dtype=int32),\n array([[2, 2],\n        [5, 4],\n        [8, 1],\n        [1, 5]], dtype=int32)]"
     },
     "execution_count": 9,
     "metadata": {},
     "output_type": "execute_result"
    }
   ],
   "source": [
    "np.array_split(g,2,axis=1) # 垂直切割"
   ],
   "metadata": {
    "collapsed": false,
    "ExecuteTime": {
     "end_time": "2024-11-08T11:34:27.938006900Z",
     "start_time": "2024-11-08T11:34:27.915962100Z"
    }
   },
   "id": "98e506f9236b00d1"
  },
  {
   "cell_type": "code",
   "execution_count": null,
   "outputs": [],
   "source": [
    "\"\"\"\n",
    "1.np.vsplit(a,2(切割成几份) / [1,2](从1，2两个地方切割) ),按水平切割\n",
    "2.np.hsplit(a,2/[1,2]),按垂直切割\n",
    "3.np.array_split(a,axis=0/1),可手动设置切割方向,0代表水平切割，1代表垂直切割\n",
    "\"\"\""
   ],
   "metadata": {
    "collapsed": false
   },
   "id": "4afe34c0ba740b46"
  }
 ],
 "metadata": {
  "kernelspec": {
   "display_name": "Python 3",
   "language": "python",
   "name": "python3"
  },
  "language_info": {
   "codemirror_mode": {
    "name": "ipython",
    "version": 2
   },
   "file_extension": ".py",
   "mimetype": "text/x-python",
   "name": "python",
   "nbconvert_exporter": "python",
   "pygments_lexer": "ipython2",
   "version": "2.7.6"
  }
 },
 "nbformat": 4,
 "nbformat_minor": 5
}
