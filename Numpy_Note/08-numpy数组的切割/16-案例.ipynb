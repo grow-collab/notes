{
 "cells": [
  {
   "cell_type": "code",
   "execution_count": 2,
   "id": "initial_id",
   "metadata": {
    "collapsed": true,
    "ExecuteTime": {
     "end_time": "2024-11-08T11:36:05.151820100Z",
     "start_time": "2024-11-08T11:36:05.143929300Z"
    }
   },
   "outputs": [],
   "source": [
    "import numpy as np"
   ]
  },
  {
   "cell_type": "code",
   "execution_count": 4,
   "outputs": [
    {
     "data": {
      "text/plain": "array([2, 4, 6, 8])"
     },
     "execution_count": 4,
     "metadata": {},
     "output_type": "execute_result"
    }
   ],
   "source": [
    "# 一维数组切割\n",
    "a = np.arange(10)\n",
    "a[2:len(a):2] # 从2开始，到8结束，但不包含8，步长为2"
   ],
   "metadata": {
    "collapsed": false,
    "ExecuteTime": {
     "end_time": "2024-11-08T11:38:40.169769Z",
     "start_time": "2024-11-08T11:38:40.156604400Z"
    }
   },
   "id": "740344de316718f5"
  },
  {
   "cell_type": "code",
   "execution_count": 6,
   "outputs": [
    {
     "name": "stdout",
     "output_type": "stream",
     "text": [
      "2\n",
      "3\n",
      "5\n",
      "6\n"
     ]
    }
   ],
   "source": [
    "# 多维数组切割\n",
    "b = np.array([[1,2,3],[4,5,6],[7,8,9]]) # 三行三列\n",
    "b[:2,1:] # 0,1 1,2 # 切片\n",
    "print(b[0,1])\n",
    "print(b[0,2])\n",
    "print(b[1,1])\n",
    "print(b[1,2])"
   ],
   "metadata": {
    "collapsed": false,
    "ExecuteTime": {
     "end_time": "2024-11-08T11:44:06.390399700Z",
     "start_time": "2024-11-08T11:44:06.378892800Z"
    }
   },
   "id": "34e1bd20d86444cf"
  },
  {
   "cell_type": "code",
   "execution_count": 7,
   "outputs": [
    {
     "data": {
      "text/plain": "array([[1, 3],\n       [7, 9]])"
     },
     "execution_count": 7,
     "metadata": {},
     "output_type": "execute_result"
    }
   ],
   "source": [
    "c = np.array([[1,2,3],[4,5,6],[7,8,9],[10,11,12]])\n",
    "c[::2,::2] # [1,2,3][7,8,9] 1,3,7,9"
   ],
   "metadata": {
    "collapsed": false,
    "ExecuteTime": {
     "end_time": "2024-11-08T11:48:33.561086700Z",
     "start_time": "2024-11-08T11:48:33.547643200Z"
    }
   },
   "id": "5b8cfab42b49976e"
  },
  {
   "cell_type": "code",
   "execution_count": 8,
   "outputs": [
    {
     "data": {
      "text/plain": "array([8, 9])"
     },
     "execution_count": 8,
     "metadata": {},
     "output_type": "execute_result"
    }
   ],
   "source": [
    "# 使用负数索引和步长\n",
    "h = np.array([1,2,3,4,5,6,7,8,9,10])\n",
    "h[-3:-1]"
   ],
   "metadata": {
    "collapsed": false,
    "ExecuteTime": {
     "end_time": "2024-11-08T11:51:19.234233200Z",
     "start_time": "2024-11-08T11:51:19.218829Z"
    }
   },
   "id": "b46eb6a0366fd6a"
  },
  {
   "cell_type": "code",
   "execution_count": null,
   "outputs": [],
   "source": [],
   "metadata": {
    "collapsed": false
   },
   "id": "3e7aab89ad7edcb6"
  }
 ],
 "metadata": {
  "kernelspec": {
   "display_name": "Python 3",
   "language": "python",
   "name": "python3"
  },
  "language_info": {
   "codemirror_mode": {
    "name": "ipython",
    "version": 2
   },
   "file_extension": ".py",
   "mimetype": "text/x-python",
   "name": "python",
   "nbconvert_exporter": "python",
   "pygments_lexer": "ipython2",
   "version": "2.7.6"
  }
 },
 "nbformat": 4,
 "nbformat_minor": 5
}
