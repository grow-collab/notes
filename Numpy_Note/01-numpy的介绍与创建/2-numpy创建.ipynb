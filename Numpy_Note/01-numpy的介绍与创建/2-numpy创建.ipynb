{
 "cells": [
  {
   "cell_type": "code",
   "execution_count": null,
   "id": "initial_id",
   "metadata": {
    "collapsed": true,
    "is_executing": true
   },
   "outputs": [],
   "source": [
    "import numpy as np\n",
    "a1 = [1,2,3,'4']\n",
    "print(a1)\n",
    "# http://localhost:8888/tree?token=b2a4e1f0b11b911904c8a43c508d6896561c04893da68b61\n",
    "b1 = np.array([[1,2,3,'4'],[5,6,7,8]])\n",
    "print(b1)\n",
    "type(b1)"
   ]
  },
  {
   "cell_type": "code",
   "execution_count": 2,
   "outputs": [
    {
     "name": "stdout",
     "output_type": "stream",
     "text": [
      "[ 1  2  3  4  5  6  7  8  9 10 11 12 13 14 15 16 17 18 19 20 21 22 23 24\n",
      " 25 26 27 28 29 30 31 32 33 34 35 36 37 38 39 40 41 42 43 44 45 46 47 48\n",
      " 49]\n"
     ]
    }
   ],
   "source": [
    "a4 = np.arange(1,50,1)\n",
    "print(a4)"
   ],
   "metadata": {
    "collapsed": false,
    "ExecuteTime": {
     "end_time": "2025-03-31T04:30:47.445971700Z",
     "start_time": "2025-03-31T04:30:47.383460500Z"
    }
   },
   "id": "b49f2242cefdfc55"
  },
  {
   "cell_type": "code",
   "execution_count": 6,
   "outputs": [
    {
     "name": "stdout",
     "output_type": "stream",
     "text": [
      "[[0.54787567 0.43294983 0.77586793 0.33046994]\n",
      " [0.36152614 0.74272817 0.87964811 0.86693618]\n",
      " [0.14039011 0.18614891 0.04971628 0.79289756]]\n",
      "[[20 33 48 22 16 37 45 46 35 17]\n",
      " [14 42  0  2 25 25  3 30 12 18]\n",
      " [38 10 48 22 19 49 10 39 12 18]\n",
      " [37 47 28 45 33 48 17 11 35 19]\n",
      " [25 11 49 23 20 35 44 40 18 17]]\n"
     ]
    }
   ],
   "source": [
    "a5 = np.random.random((3,4))\n",
    "print(a5)\n",
    "a6 = np.random.randint(0,50,size=(5,10))\n",
    "print(a6)"
   ],
   "metadata": {
    "collapsed": false,
    "ExecuteTime": {
     "end_time": "2024-11-06T23:25:57.769085200Z",
     "start_time": "2024-11-06T23:25:57.555454500Z"
    }
   },
   "id": "12e02cd09c4f9c2d"
  },
  {
   "cell_type": "code",
   "execution_count": 7,
   "outputs": [
    {
     "name": "stdout",
     "output_type": "stream",
     "text": [
      "[[0. 0.]\n",
      " [0. 0.]]\n",
      "[[1. 1.]\n",
      " [1. 1.]]\n"
     ]
    }
   ],
   "source": [
    "a7 = np.zeros((2,2)) # 生成一个都为0的2行2列的数组\n",
    "a8 = np.ones((2,2)) # 生成一个都为1的2行2列的数组\n",
    "print(a7)\n",
    "print(a8)"
   ],
   "metadata": {
    "collapsed": false,
    "ExecuteTime": {
     "end_time": "2024-11-06T23:26:00.866820700Z",
     "start_time": "2024-11-06T23:26:00.864240700Z"
    }
   },
   "id": "b09a773297ff9975"
  },
  {
   "cell_type": "code",
   "execution_count": 8,
   "outputs": [
    {
     "data": {
      "text/plain": "array([[2, 2, 2, 2],\n       [2, 2, 2, 2],\n       [2, 2, 2, 2]])"
     },
     "execution_count": 8,
     "metadata": {},
     "output_type": "execute_result"
    }
   ],
   "source": [
    "a9 = np.full((3,4),2) # 生成一个都为x的3行4列的数组，x = 2\n",
    "a9"
   ],
   "metadata": {
    "collapsed": false,
    "ExecuteTime": {
     "end_time": "2024-11-06T23:26:03.018266300Z",
     "start_time": "2024-11-06T23:26:03.014666500Z"
    }
   },
   "id": "be9dcc96520d8889"
  },
  {
   "cell_type": "code",
   "execution_count": 9,
   "outputs": [
    {
     "data": {
      "text/plain": "array([[1., 0., 0.],\n       [0., 1., 0.],\n       [0., 0., 1.]])"
     },
     "execution_count": 9,
     "metadata": {},
     "output_type": "execute_result"
    }
   ],
   "source": [
    "a10 = np.eye(3) # 生产一个在对角线元素都为1，其他都为0的3*3矩阵\n",
    "a10"
   ],
   "metadata": {
    "collapsed": false,
    "ExecuteTime": {
     "end_time": "2024-11-06T23:26:03.706318600Z",
     "start_time": "2024-11-06T23:26:03.703816700Z"
    }
   },
   "id": "842a1baf371490a3"
  },
  {
   "cell_type": "code",
   "execution_count": 9,
   "outputs": [],
   "source": [],
   "metadata": {
    "collapsed": false,
    "ExecuteTime": {
     "end_time": "2024-11-06T23:26:04.267412900Z",
     "start_time": "2024-11-06T23:26:04.204427600Z"
    }
   },
   "id": "966a45c5df829b1b"
  },
  {
   "cell_type": "code",
   "execution_count": null,
   "outputs": [],
   "source": [],
   "metadata": {
    "collapsed": false
   },
   "id": "5ca4ea153012c1c"
  }
 ],
 "metadata": {
  "kernelspec": {
   "display_name": "Python 3",
   "language": "python",
   "name": "python3"
  },
  "language_info": {
   "codemirror_mode": {
    "name": "ipython",
    "version": 2
   },
   "file_extension": ".py",
   "mimetype": "text/x-python",
   "name": "python",
   "nbconvert_exporter": "python",
   "pygments_lexer": "ipython2",
   "version": "2.7.6"
  }
 },
 "nbformat": 4,
 "nbformat_minor": 5
}
