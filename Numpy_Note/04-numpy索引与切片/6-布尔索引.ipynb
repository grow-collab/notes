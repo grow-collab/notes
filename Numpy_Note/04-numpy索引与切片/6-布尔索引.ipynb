{
 "cells": [
  {
   "cell_type": "code",
   "execution_count": 11,
   "id": "initial_id",
   "metadata": {
    "ExecuteTime": {
     "end_time": "2024-11-07T08:41:31.889680800Z",
     "start_time": "2024-11-07T08:41:31.880947Z"
    },
    "collapsed": true,
    "jupyter": {
     "outputs_hidden": true
    }
   },
   "outputs": [],
   "source": [
    "import numpy as np"
   ]
  },
  {
   "cell_type": "code",
   "execution_count": 12,
   "id": "a3eba37129ba3ba0",
   "metadata": {
    "ExecuteTime": {
     "end_time": "2024-11-07T08:41:31.889680800Z",
     "start_time": "2024-11-07T08:41:31.884004300Z"
    },
    "collapsed": false
   },
   "outputs": [
    {
     "data": {
      "text/plain": [
       "array([[ 0,  1,  2,  3,  4,  5],\n",
       "       [ 6,  7,  8,  9, 10, 11],\n",
       "       [12, 13, 14, 15, 16, 17],\n",
       "       [18, 19, 20, 21, 22, 23]])"
      ]
     },
     "execution_count": 12,
     "metadata": {},
     "output_type": "execute_result"
    }
   ],
   "source": [
    "a = np.arange(0,24).reshape(4,6)\n",
    "a"
   ]
  },
  {
   "cell_type": "code",
   "execution_count": 15,
   "id": "530ad0ec10ff1624",
   "metadata": {
    "ExecuteTime": {
     "end_time": "2024-11-07T08:42:22.299789Z",
     "start_time": "2024-11-07T08:42:22.289331800Z"
    },
    "collapsed": false
   },
   "outputs": [
    {
     "name": "stdout",
     "output_type": "stream",
     "text": [
      "< [0 1 2 3 4 5 6 7 8 9]\n",
      "<= [ 0  1  2  3  4  5  6  7  8  9 10]\n",
      "> [11 12 13 14 15 16 17 18 19 20 21 22 23]\n",
      ">= [10 11 12 13 14 15 16 17 18 19 20 21 22 23]\n",
      "== [10]\n",
      "!= [ 0  1  2  3  4  5  6  7  8  9 10 11 12 13 14 15 16 17 18 19 21 22 23]\n",
      "& [10]\n",
      "| [5 6]\n"
     ]
    }
   ],
   "source": [
    "# < <= > >= == !=  & |\n",
    "print('<',a[a<10])\n",
    "print('<=',a[a<=10])\n",
    "print('>',a[a>10])\n",
    "print('>=',a[a>=10])\n",
    "print('==',a[a==10])\n",
    "print('!=',a[a!=20])\n",
    "print('&',a[(a==10)&(a!=11)])\n",
    "print('|',a[(a==5)|(a==6)])"
   ]
  },
  {
   "cell_type": "code",
   "execution_count": null,
   "id": "886ac7de7ab11870",
   "metadata": {
    "collapsed": false
   },
   "outputs": [],
   "source": [
    "'''\n",
    "总结\n",
    "布尔索引是通过相同数组上的Truc还是False来进⾏提取的 提取的条件可以有多个 那么如果有多\n",
    "个\n",
    "可以使⽤ 并且(&) 或者(|)来表示 如果有多个条件 那么每个条件需要使⽤圆括号括起来\n",
    "'''"
   ]
  }
 ],
 "metadata": {
  "kernelspec": {
   "display_name": "Python 3 (ipykernel)",
   "language": "python",
   "name": "python3"
  },
  "language_info": {
   "codemirror_mode": {
    "name": "ipython",
    "version": 3
   },
   "file_extension": ".py",
   "mimetype": "text/x-python",
   "name": "python",
   "nbconvert_exporter": "python",
   "pygments_lexer": "ipython3",
   "version": "3.9.5"
  }
 },
 "nbformat": 4,
 "nbformat_minor": 5
}
