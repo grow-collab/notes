{
 "cells": [
  {
   "cell_type": "code",
   "execution_count": 6,
   "id": "initial_id",
   "metadata": {
    "collapsed": true,
    "ExecuteTime": {
     "end_time": "2024-11-07T07:56:39.556452300Z",
     "start_time": "2024-11-07T07:56:39.548853300Z"
    }
   },
   "outputs": [],
   "source": [
    "import numpy as np"
   ]
  },
  {
   "cell_type": "code",
   "execution_count": 2,
   "outputs": [],
   "source": [
    "a = np.arange(29)"
   ],
   "metadata": {
    "collapsed": false,
    "ExecuteTime": {
     "end_time": "2024-11-07T07:53:27.330314900Z",
     "start_time": "2024-11-07T07:53:27.319541900Z"
    }
   },
   "id": "ce9ba7edfc6fa553"
  },
  {
   "cell_type": "code",
   "execution_count": 5,
   "outputs": [
    {
     "data": {
      "text/plain": "np.int64(6)"
     },
     "execution_count": 5,
     "metadata": {},
     "output_type": "execute_result"
    }
   ],
   "source": [
    "a[6]"
   ],
   "metadata": {
    "collapsed": false,
    "ExecuteTime": {
     "end_time": "2024-11-07T07:54:23.693629100Z",
     "start_time": "2024-11-07T07:54:23.678113Z"
    }
   },
   "id": "92f5c5c26c0edca7"
  },
  {
   "cell_type": "code",
   "execution_count": 8,
   "outputs": [
    {
     "data": {
      "text/plain": "array([[ 0,  1,  2,  3,  4,  5],\n       [ 6,  7,  8,  9, 10, 11],\n       [12, 13, 14, 15, 16, 17],\n       [18, 19, 20, 21, 22, 23]])"
     },
     "execution_count": 8,
     "metadata": {},
     "output_type": "execute_result"
    }
   ],
   "source": [
    "b = np.arange(24).reshape((4,6))\n",
    "b"
   ],
   "metadata": {
    "collapsed": false,
    "ExecuteTime": {
     "end_time": "2024-11-07T07:56:50.196733600Z",
     "start_time": "2024-11-07T07:56:50.187060Z"
    }
   },
   "id": "9dc2f8395f9caed"
  },
  {
   "cell_type": "code",
   "execution_count": 9,
   "outputs": [
    {
     "data": {
      "text/plain": "array([0, 1, 2, 3, 4, 5])"
     },
     "execution_count": 9,
     "metadata": {},
     "output_type": "execute_result"
    }
   ],
   "source": [
    "b[0] # 二维数组获取某一行的数据"
   ],
   "metadata": {
    "collapsed": false,
    "ExecuteTime": {
     "end_time": "2024-11-07T07:57:21.212299900Z",
     "start_time": "2024-11-07T07:57:21.196529200Z"
    }
   },
   "id": "88a38b85456d2d1c"
  },
  {
   "cell_type": "code",
   "execution_count": 11,
   "outputs": [
    {
     "data": {
      "text/plain": "array([[ 0,  1,  2,  3,  4,  5],\n       [ 6,  7,  8,  9, 10, 11],\n       [12, 13, 14, 15, 16, 17]])"
     },
     "execution_count": 11,
     "metadata": {},
     "output_type": "execute_result"
    }
   ],
   "source": [
    "# 连续获取某几行的数据\n",
    "b[0:3]"
   ],
   "metadata": {
    "collapsed": false,
    "ExecuteTime": {
     "end_time": "2024-11-07T08:00:24.100542400Z",
     "start_time": "2024-11-07T08:00:24.086772Z"
    }
   },
   "id": "5be06916a8c08eb0"
  },
  {
   "cell_type": "code",
   "execution_count": 13,
   "outputs": [
    {
     "data": {
      "text/plain": "array([[ 0,  1,  2,  3,  4,  5],\n       [ 6,  7,  8,  9, 10, 11],\n       [18, 19, 20, 21, 22, 23]])"
     },
     "execution_count": 13,
     "metadata": {},
     "output_type": "execute_result"
    }
   ],
   "source": [
    "# 获取不连续的某几行的数据\n",
    "b[[0,1,3]]"
   ],
   "metadata": {
    "collapsed": false,
    "ExecuteTime": {
     "end_time": "2024-11-07T08:03:15.404065300Z",
     "start_time": "2024-11-07T08:03:15.392076200Z"
    }
   },
   "id": "768201299d3588bd"
  },
  {
   "cell_type": "code",
   "execution_count": 14,
   "outputs": [
    {
     "data": {
      "text/plain": "array([[48, 49],\n       [46, 47]])"
     },
     "execution_count": 14,
     "metadata": {},
     "output_type": "execute_result"
    }
   ],
   "source": [
    "# 通过负数来获取\n",
    "d = np.arange(50).reshape((25,2))\n",
    "d[[-1,-2]]"
   ],
   "metadata": {
    "collapsed": false,
    "ExecuteTime": {
     "end_time": "2024-11-07T08:07:05.969011300Z",
     "start_time": "2024-11-07T08:07:05.958525200Z"
    }
   },
   "id": "39820ebee08dd7e0"
  },
  {
   "cell_type": "code",
   "execution_count": 15,
   "outputs": [
    {
     "data": {
      "text/plain": "array([[ 0,  1,  2,  3],\n       [ 4,  5,  6,  7],\n       [ 8,  9, 10, 11],\n       [12, 13, 14, 15],\n       [16, 17, 18, 19],\n       [20, 21, 22, 23]])"
     },
     "execution_count": 15,
     "metadata": {},
     "output_type": "execute_result"
    }
   ],
   "source": [
    "u = np.arange(24).reshape(6,4)\n",
    "u"
   ],
   "metadata": {
    "collapsed": false,
    "ExecuteTime": {
     "end_time": "2024-11-07T08:09:08.492488200Z",
     "start_time": "2024-11-07T08:09:08.481045400Z"
    }
   },
   "id": "3069a205f849f2b8"
  },
  {
   "cell_type": "code",
   "execution_count": 20,
   "outputs": [
    {
     "data": {
      "text/plain": "np.int64(5)"
     },
     "execution_count": 20,
     "metadata": {},
     "output_type": "execute_result"
    }
   ],
   "source": [
    "u[1,1] # 获取某行某列的数据"
   ],
   "metadata": {
    "collapsed": false,
    "ExecuteTime": {
     "end_time": "2024-11-07T08:09:58.060612300Z",
     "start_time": "2024-11-07T08:09:58.053124700Z"
    }
   },
   "id": "b82508f396680206"
  },
  {
   "cell_type": "code",
   "execution_count": null,
   "outputs": [],
   "source": [
    "'''\n",
    "总结\n",
    "1. 如果数组是⼀维的 那么索引和切⽚就是和python中的列表是⼀样的\n",
    "2. 如果是多维的 那么在中扩中 给两个值 两个值是通过逗号分隔的 逗号前⾯是⾏ 后⾯是列 如果\n",
    "中括号中只有⼀个值 那么就表示⾏\n",
    "3. 如果是多维数组 那么⾏的部分和列的部分 都是遵循⼀维数组的⽅式 可以使⽤整形 切⽚ 还可以\n",
    "使⽤中括号的形式 来代表不连续的\n",
    "'''"
   ],
   "metadata": {
    "collapsed": false
   },
   "id": "67f40a8f4280ac91"
  }
 ],
 "metadata": {
  "kernelspec": {
   "display_name": "Python 3",
   "language": "python",
   "name": "python3"
  },
  "language_info": {
   "codemirror_mode": {
    "name": "ipython",
    "version": 2
   },
   "file_extension": ".py",
   "mimetype": "text/x-python",
   "name": "python",
   "nbconvert_exporter": "python",
   "pygments_lexer": "ipython2",
   "version": "2.7.6"
  }
 },
 "nbformat": 4,
 "nbformat_minor": 5
}
