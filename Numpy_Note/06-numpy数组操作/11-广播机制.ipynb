{
 "cells": [
  {
   "cell_type": "code",
   "execution_count": 1,
   "outputs": [],
   "source": [
    "import numpy as np"
   ],
   "metadata": {
    "collapsed": false,
    "ExecuteTime": {
     "end_time": "2024-11-08T03:08:49.883829100Z",
     "start_time": "2024-11-08T03:08:49.787725900Z"
    }
   },
   "id": "8fdd7888ef05259c"
  },
  {
   "cell_type": "code",
   "execution_count": 3,
   "outputs": [
    {
     "data": {
      "text/plain": "array([[[2, 6],\n        [6, 4],\n        [4, 2],\n        [6, 4],\n        [5, 6],\n        [4, 4],\n        [1, 1],\n        [1, 3]],\n\n       [[5, 6],\n        [4, 5],\n        [1, 6],\n        [3, 0],\n        [7, 6],\n        [2, 2],\n        [4, 2],\n        [1, 6]],\n\n       [[4, 6],\n        [7, 5],\n        [1, 2],\n        [4, 0],\n        [6, 5],\n        [4, 2],\n        [4, 3],\n        [2, 6]]], dtype=int32)"
     },
     "execution_count": 3,
     "metadata": {},
     "output_type": "execute_result"
    }
   ],
   "source": [
    "# 1. shape为(3,8,2)的数组能和(8,3)的数组进⾏运算吗？\n",
    "a = np.random.randint(0,5,size=(3,8,2))\n",
    "# b = np.random.randint(0,5,size=(8,3))\n",
    "b = np.random.randint(0,5,size=(8,2))\n",
    "c = a + b\n",
    "c"
   ],
   "metadata": {
    "collapsed": false,
    "ExecuteTime": {
     "end_time": "2024-11-08T03:19:06.263784100Z",
     "start_time": "2024-11-08T03:19:06.256787900Z"
    }
   },
   "id": "38b2798748c5f23a"
  },
  {
   "cell_type": "code",
   "execution_count": 5,
   "outputs": [
    {
     "name": "stdout",
     "output_type": "stream",
     "text": [
      "[[[3 3]\n",
      "  [2 3]\n",
      "  [4 2]\n",
      "  [1 1]\n",
      "  [3 4]\n",
      "  [3 0]\n",
      "  [4 1]\n",
      "  [1 2]]\n",
      "\n",
      " [[2 0]\n",
      "  [2 4]\n",
      "  [2 1]\n",
      "  [3 1]\n",
      "  [2 4]\n",
      "  [4 0]\n",
      "  [4 0]\n",
      "  [2 2]]\n",
      "\n",
      " [[2 2]\n",
      "  [3 1]\n",
      "  [0 4]\n",
      "  [3 1]\n",
      "  [4 2]\n",
      "  [2 4]\n",
      "  [3 3]\n",
      "  [4 2]]]\n",
      "[[1]\n",
      " [1]\n",
      " [4]\n",
      " [2]\n",
      " [4]\n",
      " [2]\n",
      " [2]\n",
      " [3]]\n"
     ]
    },
    {
     "data": {
      "text/plain": "array([[[4, 4],\n        [3, 4],\n        [8, 6],\n        [3, 3],\n        [7, 8],\n        [5, 2],\n        [6, 3],\n        [4, 5]],\n\n       [[3, 1],\n        [3, 5],\n        [6, 5],\n        [5, 3],\n        [6, 8],\n        [6, 2],\n        [6, 2],\n        [5, 5]],\n\n       [[3, 3],\n        [4, 2],\n        [4, 8],\n        [5, 3],\n        [8, 6],\n        [4, 6],\n        [5, 5],\n        [7, 5]]], dtype=int32)"
     },
     "execution_count": 5,
     "metadata": {},
     "output_type": "execute_result"
    }
   ],
   "source": [
    "# 2. shape为(3,8,2)：的数组能和(8,1)的数组进⾏运算吗？\n",
    "a = np.random.randint(0,5,size=(3,8,2))\n",
    "print(a)\n",
    "# b = np.random.randint(0,5,size=(8,3))\n",
    "b = np.random.randint(0,5,size=(8,1))\n",
    "print(b)\n",
    "c = a + b # 如果在任何维度上⼤⼩不⼀致两个数组⼦啊该维度上的⼤⼩都不为1\n",
    "c"
   ],
   "metadata": {
    "collapsed": false,
    "ExecuteTime": {
     "end_time": "2024-11-08T03:24:35.980875400Z",
     "start_time": "2024-11-08T03:24:35.969863600Z"
    }
   },
   "id": "bb0b9619d680944b"
  },
  {
   "cell_type": "code",
   "execution_count": 6,
   "outputs": [
    {
     "data": {
      "text/plain": "array([[[8, 4, 7, 4, 4, 8, 5, 7],\n        [8, 4, 7, 4, 4, 8, 5, 7],\n        [8, 4, 7, 4, 4, 8, 5, 7],\n        [4, 0, 3, 0, 0, 4, 1, 3],\n        [7, 3, 6, 3, 3, 7, 4, 6],\n        [7, 3, 6, 3, 3, 7, 4, 6],\n        [6, 2, 5, 2, 2, 6, 3, 5],\n        [7, 3, 6, 3, 3, 7, 4, 6]],\n\n       [[5, 8, 5, 4, 7, 8, 6, 8],\n        [5, 8, 5, 4, 7, 8, 6, 8],\n        [5, 8, 5, 4, 7, 8, 6, 8],\n        [1, 4, 1, 0, 3, 4, 2, 4],\n        [4, 7, 4, 3, 6, 7, 5, 7],\n        [4, 7, 4, 3, 6, 7, 5, 7],\n        [3, 6, 3, 2, 5, 6, 4, 6],\n        [4, 7, 4, 3, 6, 7, 5, 7]],\n\n       [[8, 5, 7, 5, 7, 7, 8, 6],\n        [8, 5, 7, 5, 7, 7, 8, 6],\n        [8, 5, 7, 5, 7, 7, 8, 6],\n        [4, 1, 3, 1, 3, 3, 4, 2],\n        [7, 4, 6, 4, 6, 6, 7, 5],\n        [7, 4, 6, 4, 6, 6, 7, 5],\n        [6, 3, 5, 3, 5, 5, 6, 4],\n        [7, 4, 6, 4, 6, 6, 7, 5]]], dtype=int32)"
     },
     "execution_count": 6,
     "metadata": {},
     "output_type": "execute_result"
    }
   ],
   "source": [
    "# 3. shape为(3,1,8)的数组能和(8,1)的数组进⾏运算吗？\n",
    "a = np.random.randint(0,5,size=(3,1,8))\n",
    "# b = np.random.randint(0,5,size=(8,3))\n",
    "b = np.random.randint(0,5,size=(8,1))\n",
    "c = a + b\n",
    "c"
   ],
   "metadata": {
    "collapsed": false,
    "ExecuteTime": {
     "end_time": "2024-11-08T03:27:29.197296800Z",
     "start_time": "2024-11-08T03:27:29.181833600Z"
    }
   },
   "id": "c0e4fb216b475904"
  },
  {
   "cell_type": "code",
   "execution_count": null,
   "outputs": [],
   "source": [
    "# 1.数组和数字之间直接进行运算是没有任何问题的\n",
    "# 2.相同shape数组之间可以进行运算\n",
    "# 3.如果两个shape不相同的数字想要进行运算那么就需要看他们是否满足了广播机制\n",
    "# 4.如果两个数组的后缘维度即从末尾开始算起维度M轴长度相符合或者其中一方的长度为1，他们是广播兼容的\n",
    "# 广播会在缺失（或者）长度为1的维度上进行"
   ],
   "metadata": {
    "collapsed": false
   },
   "id": "d1bb33fc0db85a9a"
  }
 ],
 "metadata": {
  "kernelspec": {
   "display_name": "Python 3",
   "language": "python",
   "name": "python3"
  },
  "language_info": {
   "codemirror_mode": {
    "name": "ipython",
    "version": 2
   },
   "file_extension": ".py",
   "mimetype": "text/x-python",
   "name": "python",
   "nbconvert_exporter": "python",
   "pygments_lexer": "ipython2",
   "version": "2.7.6"
  }
 },
 "nbformat": 4,
 "nbformat_minor": 5
}
