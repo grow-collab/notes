{
 "cells": [
  {
   "cell_type": "code",
   "execution_count": 1,
   "id": "initial_id",
   "metadata": {
    "collapsed": true,
    "ExecuteTime": {
     "end_time": "2025-07-05T13:13:56.103198Z",
     "start_time": "2025-07-05T13:13:55.978041400Z"
    }
   },
   "outputs": [],
   "source": [
    "import numpy as np"
   ]
  },
  {
   "cell_type": "code",
   "execution_count": 3,
   "outputs": [
    {
     "data": {
      "text/plain": "[2, 3, 4, 5, 6, 7]"
     },
     "execution_count": 3,
     "metadata": {},
     "output_type": "execute_result"
    }
   ],
   "source": [
    "a = [1,2,3,4,5,6]\n",
    "b = []\n",
    "for i in a:\n",
    "    b.append(i+1)\n",
    "a = b\n",
    "a"
   ],
   "metadata": {
    "collapsed": false,
    "ExecuteTime": {
     "end_time": "2025-07-05T13:15:25.080917200Z",
     "start_time": "2025-07-05T13:15:25.065295100Z"
    }
   },
   "id": "a468b640dd63e491"
  },
  {
   "cell_type": "code",
   "execution_count": 5,
   "outputs": [
    {
     "data": {
      "text/plain": "array([[0.61880463, 0.76608948, 0.66565595, 0.2537833 ],\n       [0.61735548, 0.84604695, 0.63764839, 0.74306881],\n       [0.9858032 , 0.26157241, 0.49494642, 0.66960142]])"
     },
     "execution_count": 5,
     "metadata": {},
     "output_type": "execute_result"
    }
   ],
   "source": [
    "a = np.random.random((3,4))\n",
    "a"
   ],
   "metadata": {
    "collapsed": false,
    "ExecuteTime": {
     "end_time": "2025-07-05T13:15:57.436109300Z",
     "start_time": "2025-07-05T13:15:57.381149500Z"
    }
   },
   "id": "c3fc81641a17c110"
  },
  {
   "cell_type": "code",
   "execution_count": 6,
   "outputs": [
    {
     "data": {
      "text/plain": "array([[6.18804629, 7.6608948 , 6.65655951, 2.53783305],\n       [6.17355476, 8.46046946, 6.37648394, 7.43068813],\n       [9.85803203, 2.61572407, 4.94946421, 6.69601415]])"
     },
     "execution_count": 6,
     "metadata": {},
     "output_type": "execute_result"
    }
   ],
   "source": [
    "b = a*10\n",
    "b"
   ],
   "metadata": {
    "collapsed": false,
    "ExecuteTime": {
     "end_time": "2025-07-05T13:16:00.309952800Z",
     "start_time": "2025-07-05T13:16:00.294280800Z"
    }
   },
   "id": "1b12fd98899b2ff"
  },
  {
   "cell_type": "code",
   "execution_count": 7,
   "outputs": [
    {
     "data": {
      "text/plain": "array([[1.61880463, 1.76608948, 1.66565595, 1.2537833 ],\n       [1.61735548, 1.84604695, 1.63764839, 1.74306881],\n       [1.9858032 , 1.26157241, 1.49494642, 1.66960142]])"
     },
     "execution_count": 7,
     "metadata": {},
     "output_type": "execute_result"
    }
   ],
   "source": [
    "c = a+1\n",
    "c"
   ],
   "metadata": {
    "collapsed": false,
    "ExecuteTime": {
     "end_time": "2025-07-05T13:16:05.210849100Z",
     "start_time": "2025-07-05T13:16:05.171372200Z"
    }
   },
   "id": "180f9f640ddc68a"
  },
  {
   "cell_type": "code",
   "execution_count": null,
   "outputs": [],
   "source": [],
   "metadata": {
    "collapsed": false
   },
   "id": "46889263871a0749"
  }
 ],
 "metadata": {
  "kernelspec": {
   "display_name": "Python 3",
   "language": "python",
   "name": "python3"
  },
  "language_info": {
   "codemirror_mode": {
    "name": "ipython",
    "version": 2
   },
   "file_extension": ".py",
   "mimetype": "text/x-python",
   "name": "python",
   "nbconvert_exporter": "python",
   "pygments_lexer": "ipython2",
   "version": "2.7.6"
  }
 },
 "nbformat": 4,
 "nbformat_minor": 5
}
