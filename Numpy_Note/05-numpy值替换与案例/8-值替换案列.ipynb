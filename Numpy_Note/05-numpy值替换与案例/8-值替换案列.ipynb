{
 "cells": [
  {
   "cell_type": "code",
   "execution_count": 1,
   "id": "initial_id",
   "metadata": {
    "collapsed": true,
    "ExecuteTime": {
     "end_time": "2024-11-07T10:26:35.450622300Z",
     "start_time": "2024-11-07T10:26:35.353402400Z"
    }
   },
   "outputs": [],
   "source": [
    "import numpy as np"
   ]
  },
  {
   "cell_type": "code",
   "execution_count": 2,
   "outputs": [
    {
     "data": {
      "text/plain": "array([ 0, -1,  2, -1,  4, -1,  6, -1,  8, -1])"
     },
     "execution_count": 2,
     "metadata": {},
     "output_type": "execute_result"
    }
   ],
   "source": [
    "# 1.将np,arange(10)数组中的奇数全部都替换成-1.\n",
    "a = np.arange(10)\n",
    "a[a%2==1] = -1\n",
    "a"
   ],
   "metadata": {
    "collapsed": false,
    "ExecuteTime": {
     "end_time": "2024-11-07T10:30:46.564110200Z",
     "start_time": "2024-11-07T10:30:46.555603400Z"
    }
   },
   "id": "3b4bbf4daeb7cb22"
  },
  {
   "cell_type": "code",
   "execution_count": 62,
   "outputs": [
    {
     "name": "stdout",
     "output_type": "stream",
     "text": [
      "[[0 1 2 4]\n",
      " [8 1 9 4]\n",
      " [7 8 4 8]\n",
      " [7 3 5 7]]\n",
      "[[ True False False False]\n",
      " [False  True False False]\n",
      " [False False  True False]\n",
      " [False False False  True]]\n"
     ]
    },
    {
     "data": {
      "text/plain": "array([0, 1, 4, 7], dtype=int32)"
     },
     "execution_count": 62,
     "metadata": {},
     "output_type": "execute_result"
    }
   ],
   "source": [
    "#  2.有⼀个4⾏4列的数组（⽐如：np.random.randint(0,10,size=(4,4)),请将其中对⻆线的数取出来形成⼀个⼀维数组，提示(使⽤np.eye)·\n",
    "b = np.random.randint(0,10,size=(4,4))\n",
    "print(b)\n",
    "mask_eye = np.eye(4,dtype=bool)\n",
    "print(mask_eye)\n",
    "b[mask_eye]"
   ],
   "metadata": {
    "collapsed": false,
    "ExecuteTime": {
     "end_time": "2024-11-07T11:30:35.984997300Z",
     "start_time": "2024-11-07T11:30:35.984997300Z"
    }
   },
   "id": "1e0ef879e061ad80"
  },
  {
   "cell_type": "code",
   "execution_count": null,
   "outputs": [],
   "source": [
    " # 3.有⼀个4⾏4列的数组，请取出其中(0,0),(1,2),(3,2)的点。\n",
    "c = np.arange(16).reshape(4,4)\n",
    "print(c[0,0])\n",
    "print(c[1,2])\n",
    "print(c[3,2])"
   ],
   "metadata": {
    "collapsed": false
   },
   "id": "30570e62a0941bcc"
  },
  {
   "cell_type": "code",
   "execution_count": 22,
   "outputs": [
    {
     "name": "stdout",
     "output_type": "stream",
     "text": [
      "[[1 3 2 1]\n",
      " [2 2 3 1]\n",
      " [4 4 1 2]\n",
      " [1 1 3 4]]\n",
      "[[4 4 1 2]\n",
      " [1 1 3 4]]\n"
     ]
    }
   ],
   "source": [
    "# 4.有⼀个4⾏4列的数组，请取出其中2:3⾏(包括第3⾏)的所有数据。\n",
    "d = np.random.randint(1,5,size=(4,4))\n",
    "print(d)\n",
    "print(d[2:4])"
   ],
   "metadata": {
    "collapsed": false,
    "ExecuteTime": {
     "end_time": "2024-11-07T10:50:54.508307800Z",
     "start_time": "2024-11-07T10:50:54.500096800Z"
    }
   },
   "id": "10d1efc9062d22da"
  },
  {
   "cell_type": "code",
   "execution_count": 64,
   "outputs": [
    {
     "name": "stdout",
     "output_type": "stream",
     "text": [
      "[[ 0  1  2  3  4  5  6  7  8]\n",
      " [ 9 10 11 12 13 14 15 16 17]\n",
      " [18 19 20 21 22 23 24 25 26]\n",
      " [27 28 29 30 31 32 33 34 35]\n",
      " [36 37 38 39 40 41 42 43 44]\n",
      " [45 46 47 48 49 50 51 52 53]\n",
      " [54 55 56 57 58 59 60 61 62]\n",
      " [63 64 65 66 67 68 69 70 71]]\n",
      "[17 26 35 44 53]\n",
      "[ True  True  True  True  True]\n"
     ]
    }
   ],
   "source": [
    "# 5.有⼀个8⾏9列的数组，请将其中1-6⾏(包含第5⾏)的第8列⼤于3的数全部都取出来。 \n",
    "e = np.arange(72).reshape((8,9))\n",
    "print(e)\n",
    "print(e[1:6, 8][e[1:6, 8] > 3])\n",
    "# e[1:6,8] 得到一个一维数组\n",
    "print(e[1:6,8]>3)"
   ],
   "metadata": {
    "collapsed": false,
    "ExecuteTime": {
     "end_time": "2024-11-07T11:37:14.948775600Z",
     "start_time": "2024-11-07T11:37:14.935947400Z"
    }
   },
   "id": "13a94948a1cf2a69"
  },
  {
   "cell_type": "code",
   "execution_count": 40,
   "outputs": [
    {
     "name": "stdout",
     "output_type": "stream",
     "text": [
      "[[18 23  7 24 10]\n",
      " [ 7  8 16 21 18]\n",
      " [10  2 23  8 24]\n",
      " [23  0 19 23 23]\n",
      " [12 19 14  3  9]]\n",
      "14.56\n",
      "[[18 23 14 24 14]\n",
      " [14 14 16 21 18]\n",
      " [14 14 23 14 24]\n",
      " [23 14 19 23 23]\n",
      " [14 19 14 14 14]]\n"
     ]
    }
   ],
   "source": [
    "# 6.替换数组中所有⼩于平均值的元素\n",
    "arr = np.random.randint(0,25,size=(5,5))\n",
    "mean_value = arr.mean()\n",
    "print(arr)\n",
    "print(mean_value)\n",
    "arr[arr<mean_value] = mean_value\n",
    "print(arr)"
   ],
   "metadata": {
    "collapsed": false,
    "ExecuteTime": {
     "end_time": "2024-11-07T11:05:49.992787600Z",
     "start_time": "2024-11-07T11:05:49.988981400Z"
    }
   },
   "id": "f50eb69de98e36e0"
  },
  {
   "cell_type": "code",
   "execution_count": 41,
   "outputs": [
    {
     "data": {
      "text/plain": "array([[ 0,  0,  0,  0,  0,  0],\n       [ 0,  7,  8,  9, 10,  0],\n       [ 0, 13, 14, 15, 16,  0],\n       [ 0,  0,  0,  0,  0,  0]])"
     },
     "execution_count": 41,
     "metadata": {},
     "output_type": "execute_result"
    }
   ],
   "source": [
    "# 7.将⼀个数组的边框元素设置为0\n",
    "y = np.arange(24).reshape(4,6)\n",
    "y[0]= 0 # 将第一行设置为0\n",
    "y[-1] = 0 # 将最后一行设置为0\n",
    "y[:,0] = 0 # 将第一列设置为0\n",
    "y[:,-1] = 0 # 将最后一列设置为0\n",
    "y"
   ],
   "metadata": {
    "collapsed": false,
    "ExecuteTime": {
     "end_time": "2024-11-07T11:07:28.299568400Z",
     "start_time": "2024-11-07T11:07:28.288001600Z"
    }
   },
   "id": "cd4449375f5d97be"
  },
  {
   "cell_type": "code",
   "execution_count": 52,
   "outputs": [
    {
     "name": "stdout",
     "output_type": "stream",
     "text": [
      "[[ 0  1  2  3]\n",
      " [ 4  5  6  7]\n",
      " [ 8  9 10 11]\n",
      " [12 13 14 15]]\n",
      "[[12 13 14 15]\n",
      " [ 8  9 10 11]\n",
      " [ 4  5  6  7]\n",
      " [ 0  1  2  3]]\n"
     ]
    }
   ],
   "source": [
    "#  8.反转⼆维数组的⾏\n",
    "u = np.arange(16).reshape(4,4)\n",
    "print(u)\n",
    "i = u[::-1]\n",
    "print(i)"
   ],
   "metadata": {
    "collapsed": false,
    "ExecuteTime": {
     "end_time": "2024-11-07T11:13:17.881288600Z",
     "start_time": "2024-11-07T11:13:17.869666900Z"
    }
   },
   "id": "cb602a17d087213f"
  },
  {
   "cell_type": "code",
   "execution_count": 59,
   "outputs": [
    {
     "name": "stdout",
     "output_type": "stream",
     "text": [
      "[[[2 4 4 2]\n",
      "  [3 4 1 4]]\n",
      "\n",
      " [[2 3 3 2]\n",
      "  [4 1 4 4]]\n",
      "\n",
      " [[2 1 2 4]\n",
      "  [2 3 3 3]]]\n",
      "20\n"
     ]
    }
   ],
   "source": [
    "# 9. 将3D数组的最后⼀个维度进⾏求和\n",
    "arr2 = np.random.randint(1,5,size=(3,2,4))\n",
    "print(arr2)\n",
    "sum = arr2.sum(axis=-1)[2].sum() # arr2.sum(axis=-1)可以理解为变成了二维数组\n",
    "print(sum)"
   ],
   "metadata": {
    "collapsed": false,
    "ExecuteTime": {
     "end_time": "2024-11-07T11:22:31.140363900Z",
     "start_time": "2024-11-07T11:22:31.136360Z"
    }
   },
   "id": "a593688546079bf8"
  },
  {
   "cell_type": "code",
   "execution_count": 61,
   "outputs": [
    {
     "name": "stdout",
     "output_type": "stream",
     "text": [
      "[[ 0  1  2  3  4]\n",
      " [ 5  6  7  8  9]\n",
      " [10 11 12 13 14]\n",
      " [15 16 17 18 19]\n",
      " [20 21 22 23 24]]\n",
      "[[ True False False False False]\n",
      " [False  True False False False]\n",
      " [False False  True False False]\n",
      " [False False False  True False]\n",
      " [False False False False  True]]\n",
      "[ 1  2  3  4  5  7  8  9 10 11 13 14 15 16 17 19 20 21 22 23]\n"
     ]
    }
   ],
   "source": [
    "# 10.选择数组中的⾮对⻆线元素\n",
    "arr3 = np.arange(25).reshape(5,5)\n",
    "print(arr3)\n",
    "eye_mask02 = np.eye(5,dtype=bool)\n",
    "print(eye_mask02)\n",
    "print(arr3[~eye_mask02])"
   ],
   "metadata": {
    "collapsed": false,
    "ExecuteTime": {
     "end_time": "2024-11-07T11:26:58.464253700Z",
     "start_time": "2024-11-07T11:26:58.451579100Z"
    }
   },
   "id": "dbfaa228c1f9722c"
  },
  {
   "cell_type": "code",
   "execution_count": null,
   "outputs": [],
   "source": [],
   "metadata": {
    "collapsed": false
   },
   "id": "db3dd956fae739a0"
  }
 ],
 "metadata": {
  "kernelspec": {
   "display_name": "Python 3",
   "language": "python",
   "name": "python3"
  },
  "language_info": {
   "codemirror_mode": {
    "name": "ipython",
    "version": 2
   },
   "file_extension": ".py",
   "mimetype": "text/x-python",
   "name": "python",
   "nbconvert_exporter": "python",
   "pygments_lexer": "ipython2",
   "version": "2.7.6"
  }
 },
 "nbformat": 4,
 "nbformat_minor": 5
}
